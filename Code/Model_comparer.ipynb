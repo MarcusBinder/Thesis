{
 "cells": [
  {
   "cell_type": "code",
   "execution_count": 1,
   "id": "f02f8a3c",
   "metadata": {},
   "outputs": [],
   "source": [
    "import pandas as pd\n",
    "\n",
    "import gym\n",
    "import numpy as np\n",
    "from stable_baselines3 import A2C, DDPG, SAC, PPO\n",
    "from matplotlib import axis\n",
    "import numpy as np\n",
    "from floris.tools import FlorisInterface\n",
    "from floris.tools.visualization import visualize_cut_plane\n",
    "import matplotlib.pyplot as plt\n",
    "from floris.tools.optimization.yaw_optimization.yaw_optimizer_sr import YawOptimizationSR\n",
    "\n",
    "#Importing custom environment.\n",
    "from Custom_functions import CustomEnv, CustomEnv2\n"
   ]
  },
  {
   "cell_type": "code",
   "execution_count": 4,
   "id": "214d1ba0",
   "metadata": {},
   "outputs": [],
   "source": [
    "df = pd.read_excel (r'Results\\Overview.xlsx')"
   ]
  },
  {
   "cell_type": "code",
   "execution_count": 5,
   "id": "87d6b0a0",
   "metadata": {},
   "outputs": [],
   "source": [
    "model_compare = \"A2C3\""
   ]
  },
  {
   "cell_type": "code",
   "execution_count": 6,
   "id": "ee7812c6",
   "metadata": {},
   "outputs": [],
   "source": [
    "index = df[df[\"Model name\"]==model_compare].index.values[0]"
   ]
  },
  {
   "cell_type": "code",
   "execution_count": 7,
   "id": "783e9208",
   "metadata": {},
   "outputs": [],
   "source": [
    "Model_name = df[\"Model name\"][index]\n",
    "t_steps = df[\"t_steps\"][index]\n",
    "dist = df[\"dist\"][index]\n",
    "nx = df[\"nx\"][index]\n",
    "ny = df[\"ny\"][index]\n",
    "turb_type = df[\"turb_type\"][index]\n",
    "combination = df[\"combination\"][index]\n",
    "deflection = df[\"deflection\"][index]\n",
    "turbulence = df[\"turbulence\"][index]\n",
    "velocity = df[\"velocity\"][index]\n",
    "WS_min = df[\"WS_min\"][index]\n",
    "WS_max = df[\"WS_max\"][index]\n",
    "TI_min = df[\"TI_min\"][index]\n",
    "TI_max = df[\"TI_max\"][index]\n",
    "wd_min = df[\"wd_min\"][index]\n",
    "wd_max = df[\"wd_max\"][index]\n",
    "yaw_max = df[\"yaw_max\"][index]\n",
    "rho = df[\"rho\"][index]"
   ]
  },
  {
   "cell_type": "code",
   "execution_count": 8,
   "id": "5908f6ce",
   "metadata": {},
   "outputs": [],
   "source": [
    "env = CustomEnv(t_steps, dist, nx, ny, turb_type, combination, deflection,\n",
    "               turbulence, velocity, WS_min, WS_max, TI_min, TI_max, wd_min, wd_max, \n",
    "               yaw_max, rho)"
   ]
  },
  {
   "cell_type": "code",
   "execution_count": 9,
   "id": "f381d536",
   "metadata": {},
   "outputs": [],
   "source": [
    "model_path = \"models/\"+model_compare+\"/475000\""
   ]
  },
  {
   "cell_type": "code",
   "execution_count": 10,
   "id": "8c42a268",
   "metadata": {},
   "outputs": [
    {
     "name": "stdout",
     "output_type": "stream",
     "text": [
      "Wrapping the env with a `Monitor` wrapper\n",
      "Wrapping the env in a DummyVecEnv.\n"
     ]
    }
   ],
   "source": [
    "model = A2C.load(model_path, env=env)"
   ]
  },
  {
   "cell_type": "code",
   "execution_count": null,
   "id": "6e8efff7",
   "metadata": {},
   "outputs": [],
   "source": []
  },
  {
   "cell_type": "code",
   "execution_count": 11,
   "id": "390f1f08",
   "metadata": {},
   "outputs": [],
   "source": [
    "#Creates the base for the farm\n",
    "fi = FlorisInterface(\"gch.yaml\")   \n",
    "\n",
    "#Turns it into a dictionary and then does the changes to the model\n",
    "fi_dict = fi.floris.as_dict()\n",
    "\n",
    "fi_dict[\"farm\"][\"turbine_type\"] = [turb_type]\n",
    "fi_dict[\"wake\"][\"model_strings\"][\"combination_model\"] = combination\n",
    "fi_dict[\"wake\"][\"model_strings\"][\"deflection_model\"]  = deflection\n",
    "fi_dict[\"wake\"][\"model_strings\"][\"turbulence_model\"]  = turbulence\n",
    "fi_dict[\"wake\"][\"model_strings\"][\"velocity_model\"]    = velocity\n",
    "fi_dict[\"flow_field\"][\"air_density\"]                  = rho\n",
    "\n",
    "# Turns it back into a floris object:\n",
    "fi = FlorisInterface(fi_dict)\n",
    "\n",
    "D = fi.floris.farm.rotor_diameters[0]\n",
    "\n",
    "x = np.linspace(0, D*dist*nx, nx)\n",
    "y = np.linspace(0, D*dist*ny, ny)\n",
    "\n",
    "xv, yv = np.meshgrid(x, y, indexing='xy')\n",
    "\n",
    "layout_x =  xv.flatten()\n",
    "layout_y = yv.flatten()\n",
    "\n",
    "fi.reinitialize(\n",
    "            layout=(layout_x, layout_y),\n",
    "            )\n"
   ]
  },
  {
   "cell_type": "code",
   "execution_count": null,
   "id": "1d769566",
   "metadata": {},
   "outputs": [],
   "source": []
  },
  {
   "cell_type": "code",
   "execution_count": 12,
   "id": "3397dcb8",
   "metadata": {},
   "outputs": [],
   "source": [
    "TI = TI_min\n",
    "\n",
    "actions = []\n",
    "agent_power = []\n",
    "baseline_power = []\n",
    "wind_dirs = []\n",
    "yaw_angles = np.zeros((1, 1, nx*ny)) \n",
    "yaw_zero = np.zeros((1, 1, nx*ny)) \n",
    "\n",
    "wind_speed = 7\n",
    "\n",
    "\n",
    "\n",
    "ws_norm = (wind_speed - env.wind_speed_min)/(env.wind_speed_max - env.wind_speed_min)\n",
    "TI_norm = (TI - env.TI_min)/(env.TI_max - env.TI_min)  \n",
    "\n",
    "\n",
    "\n",
    "\n",
    "for wind_dir in range(wd_min, wd_max+1):\n",
    "    wind_dirs.append(wind_dir)\n",
    "    wd_norm = (wind_dir - env.wd_min)/(env.wd_max - env.wd_min)\n",
    "    #observation = np.array([self.wd_norm, self.ws_norm, self.TI_norm], dtype = np.float32)\n",
    "    observation = np.array([wd_norm, ws_norm, TI_norm], dtype = np.float32)\n",
    "\n",
    "    action, _states = model.predict(observation, deterministic=True)\n",
    "    \n",
    "    action = action*env.yaw_max   #scales the action to the \n",
    "    actions.append(action)\n",
    "    \n",
    "    fi.reinitialize(\n",
    "        wind_directions=[wind_dir],\n",
    "        turbulence_intensity= TI,\n",
    "        wind_speeds=[wind_speed]\n",
    "        )\n",
    "    \n",
    "    yaw_angles[0,0,:] = action\n",
    "    fi.calculate_wake(yaw_angles = yaw_zero)\n",
    "    \n",
    "    baseline_power.append(fi.get_farm_power()[0][0])\n",
    "    \n",
    "    fi.calculate_wake(yaw_angles = yaw_angles)\n",
    "    agent_power.append(fi.get_farm_power()[0][0])\n",
    "        \n",
    "        \n",
    "\n",
    "actions = np.array(actions)\n",
    "np.unique(actions,axis = 0)\n",
    "\n",
    "baseline_power = np.array(baseline_power)\n",
    "agent_power = np.array(agent_power)\n",
    "wind_dirs = np.array(wind_dirs)\n"
   ]
  },
  {
   "cell_type": "code",
   "execution_count": null,
   "id": "c639347e",
   "metadata": {},
   "outputs": [],
   "source": []
  },
  {
   "cell_type": "code",
   "execution_count": 13,
   "id": "f2546376",
   "metadata": {},
   "outputs": [
    {
     "ename": "",
     "evalue": "",
     "output_type": "error",
     "traceback": [
      "\u001b[1;31mCanceled future for execute_request message before replies were done"
     ]
    },
    {
     "ename": "",
     "evalue": "",
     "output_type": "error",
     "traceback": [
      "The Kernel crashed while executing code in the the current cell or a previous cell. Please review the code in the cell(s) to identify a possible cause of the failure. Click <a href='https://aka.ms/vscodeJupyterKernelCrash'>here</a> for more info. View Jupyter <a href='command:jupyter.viewOutput'>log</a> for further details."
     ]
    }
   ],
   "source": [
    "fig = plt.gcf()\n",
    "fig.set_size_inches(15/1.5, 7/1.5)\n",
    "ax = plt.gca()\n",
    "plt.plot(agent_power,wind_dirs, label = '1')\n",
    "#plt.plot(step2,rew2, label = '2')\n",
    "#plt.xlabel(\"Episode number\", fontsize = 12, fontweight=\"bold\")\n",
    "#plt.ylabel(\"Average reward\", fontsize = 12, fontweight=\"bold\")\n",
    "#plt.legend(title=\"Agent number\", fontsize = 12)\n",
    "#plt.title(\"The reward as a function of the episode number\", fontsize = 12, fontweight=\"bold\")\n",
    "#plt.grid()\n",
    "#plt.xlim(0,510_000)\n",
    "#plt.ticklabel_format(style='sci', axis='x', scilimits=(0,0))\n",
    "#plt.show()\n",
    "#fig.savefig('Plots/Fluid meetings/rew_eps1.png', dpi=150)"
   ]
  },
  {
   "cell_type": "code",
   "execution_count": null,
   "id": "111abb7d",
   "metadata": {},
   "outputs": [],
   "source": []
  },
  {
   "cell_type": "code",
   "execution_count": null,
   "id": "0af25a9d",
   "metadata": {},
   "outputs": [],
   "source": []
  },
  {
   "cell_type": "code",
   "execution_count": null,
   "id": "a485147a",
   "metadata": {},
   "outputs": [],
   "source": []
  },
  {
   "cell_type": "code",
   "execution_count": null,
   "id": "53647529",
   "metadata": {},
   "outputs": [],
   "source": []
  },
  {
   "cell_type": "code",
   "execution_count": 131,
   "id": "7e64674b",
   "metadata": {},
   "outputs": [],
   "source": [
    "# Load the TensorBoard notebook extension\n",
    "%load_ext tensorboard"
   ]
  },
  {
   "cell_type": "code",
   "execution_count": 132,
   "id": "644f0675",
   "metadata": {},
   "outputs": [],
   "source": [
    "import tensorflow as tf\n",
    "import datetime, os"
   ]
  },
  {
   "cell_type": "code",
   "execution_count": 133,
   "id": "9db800fa",
   "metadata": {},
   "outputs": [
    {
     "data": {
      "text/html": [
       "\n",
       "      <iframe id=\"tensorboard-frame-629f6fbed82c07cd\" width=\"100%\" height=\"800\" frameborder=\"0\">\n",
       "      </iframe>\n",
       "      <script>\n",
       "        (function() {\n",
       "          const frame = document.getElementById(\"tensorboard-frame-629f6fbed82c07cd\");\n",
       "          const url = new URL(\"/\", window.location);\n",
       "          const port = 6006;\n",
       "          if (port) {\n",
       "            url.port = port;\n",
       "          }\n",
       "          frame.src = url;\n",
       "        })();\n",
       "      </script>\n",
       "    "
      ],
      "text/plain": [
       "<IPython.core.display.HTML object>"
      ]
     },
     "metadata": {},
     "output_type": "display_data"
    }
   ],
   "source": [
    "%tensorboard --logdir logs"
   ]
  }
 ],
 "metadata": {
  "kernelspec": {
   "display_name": "Python 3.9.7 ('flenv')",
   "language": "python",
   "name": "python3"
  },
  "language_info": {
   "codemirror_mode": {
    "name": "ipython",
    "version": 3
   },
   "file_extension": ".py",
   "mimetype": "text/x-python",
   "name": "python",
   "nbconvert_exporter": "python",
   "pygments_lexer": "ipython3",
   "version": "3.9.7"
  },
  "vscode": {
   "interpreter": {
    "hash": "d7324f66d2e9870598b0ccb04b925f403495abe4213fffa041b0fd5e94dbe932"
   }
  }
 },
 "nbformat": 4,
 "nbformat_minor": 5
}
