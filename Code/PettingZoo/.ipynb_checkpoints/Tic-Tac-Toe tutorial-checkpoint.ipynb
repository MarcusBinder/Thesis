{
 "cells": [
  {
   "cell_type": "code",
   "execution_count": 3,
   "id": "7ea83ee0",
   "metadata": {},
   "outputs": [],
   "source": [
    "import random\n",
    "import numpy as np\n",
    "from collections import defaultdict\n",
    "import dill"
   ]
  },
  {
   "cell_type": "code",
   "execution_count": 4,
   "id": "3c4f7e10",
   "metadata": {},
   "outputs": [],
   "source": [
    "from pettingzoo.classic import tictactoe_v3"
   ]
  },
  {
   "cell_type": "code",
   "execution_count": 5,
   "id": "197048ff",
   "metadata": {},
   "outputs": [],
   "source": [
    "# Creating the environment:\n",
    "env = tictactoe_v3.env()"
   ]
  },
  {
   "cell_type": "code",
   "execution_count": 36,
   "id": "78594137",
   "metadata": {},
   "outputs": [],
   "source": [
    "#resets the environment\n",
    "env.reset()"
   ]
  },
  {
   "cell_type": "code",
   "execution_count": 37,
   "id": "c16ed8f1",
   "metadata": {},
   "outputs": [
    {
     "data": {
      "text/plain": [
       "['player_1', 'player_2']"
      ]
     },
     "execution_count": 37,
     "metadata": {},
     "output_type": "execute_result"
    }
   ],
   "source": [
    "#List the agents:\n",
    "env.agents"
   ]
  },
  {
   "cell_type": "code",
   "execution_count": 38,
   "id": "1cd72925",
   "metadata": {},
   "outputs": [
    {
     "data": {
      "text/plain": [
       "'player_1'"
      ]
     },
     "execution_count": 38,
     "metadata": {},
     "output_type": "execute_result"
    }
   ],
   "source": [
    "env.reset()\n",
    "env.agent_selection"
   ]
  },
  {
   "cell_type": "code",
   "execution_count": 39,
   "id": "b559f738",
   "metadata": {},
   "outputs": [
    {
     "data": {
      "text/plain": [
       "'player_1'"
      ]
     },
     "execution_count": 39,
     "metadata": {},
     "output_type": "execute_result"
    }
   ],
   "source": [
    "#env.step()\n",
    "# env acts by updating the observation and \n",
    "# switches to the next player\n",
    "env.agent_selection"
   ]
  },
  {
   "cell_type": "code",
   "execution_count": 40,
   "id": "e59a24cf",
   "metadata": {},
   "outputs": [
    {
     "name": "stdout",
     "output_type": "stream",
     "text": [
      "Help on method step in module pettingzoo.utils.wrappers.order_enforcing:\n",
      "\n",
      "step(action) method of pettingzoo.utils.wrappers.order_enforcing.OrderEnforcingWrapper instance\n",
      "    Accepts and executes the action of the current agent_selection\n",
      "    in the environment, automatically switches control to the next agent.\n",
      "\n"
     ]
    }
   ],
   "source": [
    "help(env.step)"
   ]
  },
  {
   "cell_type": "code",
   "execution_count": 41,
   "id": "9936fa0e",
   "metadata": {},
   "outputs": [
    {
     "data": {
      "text/plain": [
       "'player_2'"
      ]
     },
     "execution_count": 41,
     "metadata": {},
     "output_type": "execute_result"
    }
   ],
   "source": [
    "# now player 2 can act\n",
    "env.step(1)\n",
    "env.agent_selection"
   ]
  },
  {
   "cell_type": "code",
   "execution_count": 43,
   "id": "91928d5a",
   "metadata": {},
   "outputs": [],
   "source": [
    "observation, reward, done, info = env.last()"
   ]
  },
  {
   "cell_type": "code",
   "execution_count": 48,
   "id": "8c5c4060",
   "metadata": {},
   "outputs": [
    {
     "data": {
      "text/plain": [
       "array([1, 0, 1, 1, 1, 1, 1, 1, 1], dtype=int8)"
      ]
     },
     "execution_count": 48,
     "metadata": {},
     "output_type": "execute_result"
    }
   ],
   "source": [
    "observation['action_mask']"
   ]
  },
  {
   "cell_type": "code",
   "execution_count": 55,
   "id": "cb02bd47",
   "metadata": {},
   "outputs": [
    {
     "name": "stdout",
     "output_type": "stream",
     "text": [
      "No actions taken\n",
      "[1 1 1 1 1 1 1 1 1]\n",
      "One action taken\n",
      "[1 0 1 1 1 1 1 1 1]\n",
      "Last action taken\n",
      "[0 0 1 1 1 1 1 1 1]\n"
     ]
    }
   ],
   "source": [
    "env.reset()\n",
    "print(\"No actions taken\")\n",
    "observation, reward, done, info = env.last()\n",
    "print(observation['action_mask'])\n",
    "# player 1\n",
    "env.step(1)\n",
    "print(\"One action taken\")\n",
    "observation, reward, done, info = env.last()\n",
    "print(observation['action_mask'])\n",
    "\n",
    "# player 2 attempts same move\n",
    "env.step(0)\n",
    "\n",
    "print(\"Last action taken\")\n",
    "observation, reward, done, info = env.last()\n",
    "print(observation['action_mask'])"
   ]
  },
  {
   "cell_type": "code",
   "execution_count": 68,
   "id": "d4406198",
   "metadata": {},
   "outputs": [
    {
     "name": "stdout",
     "output_type": "stream",
     "text": [
      "     |     |     \n",
      "  X  |  O  |  -  \n",
      "_____|_____|_____\n",
      "     |     |     \n",
      "  X  |  O  |  -  \n",
      "_____|_____|_____\n",
      "     |     |     \n",
      "  X  |  -  |  -  \n",
      "     |     |     \n",
      "done is: True\n",
      "Reward is: -1\n"
     ]
    }
   ],
   "source": [
    "env.reset()\n",
    "env.step(0)\n",
    "env.step(3)\n",
    "env.step(1)\n",
    "env.step(4)\n",
    "env.step(2)\n",
    "env.render()\n",
    "\n",
    "\n",
    "\n",
    "observation, reward, done, info = env.last()\n",
    "\n",
    "\n",
    "\n",
    "\n",
    "env.step(None)"
   ]
  },
  {
   "cell_type": "code",
   "execution_count": 69,
   "id": "a5889b69",
   "metadata": {},
   "outputs": [
    {
     "data": {
      "text/plain": [
       "['player_1']"
      ]
     },
     "execution_count": 69,
     "metadata": {},
     "output_type": "execute_result"
    }
   ],
   "source": [
    "env.agents"
   ]
  },
  {
   "cell_type": "code",
   "execution_count": 70,
   "id": "267acbcf",
   "metadata": {},
   "outputs": [
    {
     "name": "stdout",
     "output_type": "stream",
     "text": [
      "done is: True\n",
      "Reward is: 1\n"
     ]
    }
   ],
   "source": [
    "observation, reward, done, info = env.last()\n",
    "\n",
    "print(\"done is:\", done)\n",
    "print(\"Reward is:\", reward)\n",
    "\n",
    "env.step(None)"
   ]
  },
  {
   "cell_type": "code",
   "execution_count": 71,
   "id": "47b6d151",
   "metadata": {},
   "outputs": [
    {
     "data": {
      "text/plain": [
       "[]"
      ]
     },
     "execution_count": 71,
     "metadata": {},
     "output_type": "execute_result"
    }
   ],
   "source": [
    "# no active agents anymore, need to call env.reset() to start a new game\n",
    "env.agents"
   ]
  },
  {
   "cell_type": "code",
   "execution_count": 73,
   "id": "bdaf3110",
   "metadata": {},
   "outputs": [
    {
     "data": {
      "text/plain": [
       "array([0, 0, 0, 0, 0, 1, 1, 1, 1], dtype=int8)"
      ]
     },
     "execution_count": 73,
     "metadata": {},
     "output_type": "execute_result"
    }
   ],
   "source": [
    "observation[\"action_mask\"]"
   ]
  },
  {
   "cell_type": "code",
   "execution_count": 74,
   "id": "7873471c",
   "metadata": {},
   "outputs": [],
   "source": [
    "def policy(observation, agent):\n",
    "    action = random.choice(np.flatnonzero(observation['action_mask']))\n",
    "    return action"
   ]
  },
  {
   "cell_type": "code",
   "execution_count": 114,
   "id": "73ba3448",
   "metadata": {},
   "outputs": [
    {
     "name": "stdout",
     "output_type": "stream",
     "text": [
      "player_1\n",
      "False\n",
      "0\n",
      "player_2\n",
      "False\n",
      "0\n",
      "player_1\n",
      "False\n",
      "0\n",
      "player_2\n",
      "False\n",
      "0\n",
      "player_1\n",
      "False\n",
      "0\n",
      "player_2\n",
      "False\n",
      "0\n",
      "player_1\n",
      "False\n",
      "0\n",
      "player_2\n",
      "False\n",
      "0\n",
      "player_1\n",
      "False\n",
      "0\n",
      "player_2\n",
      "True\n",
      "-1\n",
      "player_1\n",
      "True\n",
      "1\n"
     ]
    }
   ],
   "source": [
    "env.reset()\n",
    "for agent in env.agent_iter():\n",
    "    print(agent)\n",
    "    observation, reward, done, info = env.last()\n",
    "    print(done)\n",
    "    print(reward)\n",
    "    action = policy(observation, agent) if not done else None\n",
    "    env.step(action)\n",
    "    #env.render() # this visualizes a single game"
   ]
  },
  {
   "cell_type": "code",
   "execution_count": 115,
   "id": "444bd85e",
   "metadata": {},
   "outputs": [],
   "source": [
    "p1_w = 0\n",
    "p1_d = 0\n",
    "p1_l = 0\n",
    "\n",
    "p2_w = 0\n",
    "p2_d = 0\n",
    "p2_l = 0\n",
    "\n",
    "\n",
    "for _ in range(10_000):\n",
    "    env.reset()\n",
    "    \n",
    "    for agent in env.agent_iter():\n",
    "        observation, reward, done, info = env.last()\n",
    "        action = policy(observation, agent) if not done else None\n",
    "        env.step(action)\n",
    "        \n",
    "        if done:\n",
    "            #If we are done, we want to store the reward, as to save who won\n",
    "            if agent == 'player_1':\n",
    "                #does it for agent 1:\n",
    "                if reward == 1:\n",
    "                    p1_w += 1\n",
    "                elif reward == 0:\n",
    "                    p1_d +=1\n",
    "                elif reward == -1:\n",
    "                    p1_l += 1\n",
    "                    \n",
    "            if agent == 'player_2':\n",
    "                #does it for agent 2:\n",
    "                if reward == 1:\n",
    "                    p2_w += 1\n",
    "                elif reward == 0:\n",
    "                    p2_d +=1\n",
    "                elif reward == -1:\n",
    "                    p2_l += 1   "
   ]
  },
  {
   "cell_type": "code",
   "execution_count": 118,
   "id": "6372b8c0",
   "metadata": {},
   "outputs": [
    {
     "name": "stdout",
     "output_type": "stream",
     "text": [
      "p1 wins: 5865\n",
      "p1 draws: 1264\n",
      "p1 losses: 2871\n",
      "p2 wins: 2871\n",
      "p2 draws: 1264\n",
      "p2 losses: 5865\n"
     ]
    }
   ],
   "source": [
    "print(\"p1 wins:\", p1_w)\n",
    "print(\"p1 draws:\", p1_d)\n",
    "print(\"p1 losses:\", p1_l)\n",
    "\n",
    "print(\"p2 wins:\", p2_w)\n",
    "print(\"p2 draws:\", p2_d)\n",
    "print(\"p2 losses:\", p2_l)"
   ]
  },
  {
   "cell_type": "code",
   "execution_count": 120,
   "id": "5a8debcc",
   "metadata": {},
   "outputs": [
    {
     "data": {
      "text/plain": [
       "10000"
      ]
     },
     "execution_count": 120,
     "metadata": {},
     "output_type": "execute_result"
    }
   ],
   "source": [
    "p1_w + p1_d + p1_l"
   ]
  },
  {
   "cell_type": "code",
   "execution_count": 121,
   "id": "0a9c494f",
   "metadata": {},
   "outputs": [
    {
     "data": {
      "text/plain": [
       "10000"
      ]
     },
     "execution_count": 121,
     "metadata": {},
     "output_type": "execute_result"
    }
   ],
   "source": [
    "p2_w + p2_d + p2_l"
   ]
  },
  {
   "cell_type": "code",
   "execution_count": 122,
   "id": "a9abb115",
   "metadata": {},
   "outputs": [
    {
     "data": {
      "text/plain": [
       "array([[[0, 0],\n",
       "        [0, 0],\n",
       "        [0, 0]],\n",
       "\n",
       "       [[0, 0],\n",
       "        [0, 0],\n",
       "        [0, 0]],\n",
       "\n",
       "       [[0, 0],\n",
       "        [0, 0],\n",
       "        [0, 0]]], dtype=int8)"
      ]
     },
     "execution_count": 122,
     "metadata": {},
     "output_type": "execute_result"
    }
   ],
   "source": [
    "env.reset()\n",
    "observation, reward, done, info = env.last()\n",
    "\n",
    "\n",
    "observation['observation']"
   ]
  },
  {
   "cell_type": "code",
   "execution_count": 123,
   "id": "a29c0300",
   "metadata": {},
   "outputs": [
    {
     "name": "stdout",
     "output_type": "stream",
     "text": [
      "     |     |     \n",
      "  -  |  -  |  -  \n",
      "_____|_____|_____\n",
      "     |     |     \n",
      "  -  |  -  |  -  \n",
      "_____|_____|_____\n",
      "     |     |     \n",
      "  -  |  -  |  -  \n",
      "     |     |     \n"
     ]
    }
   ],
   "source": [
    "env.render()"
   ]
  },
  {
   "cell_type": "code",
   "execution_count": 126,
   "id": "e32c4f21",
   "metadata": {},
   "outputs": [
    {
     "data": {
      "text/plain": [
       "(3, 3, 2)"
      ]
     },
     "execution_count": 126,
     "metadata": {},
     "output_type": "execute_result"
    }
   ],
   "source": [
    "observation['observation'].shape"
   ]
  },
  {
   "cell_type": "code",
   "execution_count": 134,
   "id": "dee4b094",
   "metadata": {},
   "outputs": [
    {
     "data": {
      "text/plain": [
       "-8751529290983810411"
      ]
     },
     "execution_count": 134,
     "metadata": {},
     "output_type": "execute_result"
    }
   ],
   "source": [
    "state = hash(str(observation['observation']))\n",
    "\n",
    "state\n"
   ]
  },
  {
   "cell_type": "code",
   "execution_count": 135,
   "id": "d903192c",
   "metadata": {},
   "outputs": [
    {
     "data": {
      "text/plain": [
       "'65ea394aefe804468cc42b20ecc8b606'"
      ]
     },
     "execution_count": 135,
     "metadata": {},
     "output_type": "execute_result"
    }
   ],
   "source": [
    "import hashlib\n",
    "\n",
    "def encode_state(observation):\n",
    "    # encode observation as bytes           \n",
    "    obs_bytes = str(observation).encode('utf-8')\n",
    "    # create md5 hash\n",
    "    m = hashlib.md5(obs_bytes)\n",
    "    # return hash as hex digest\n",
    "    state = m.hexdigest()\n",
    "    return(state)\n",
    "\n",
    "encode_state(observation['observation'])"
   ]
  },
  {
   "cell_type": "code",
   "execution_count": 136,
   "id": "79f4854e",
   "metadata": {},
   "outputs": [
    {
     "data": {
      "text/plain": [
       "array([[[0, 0],\n",
       "        [0, 0],\n",
       "        [0, 0]],\n",
       "\n",
       "       [[0, 0],\n",
       "        [1, 0],\n",
       "        [0, 0]],\n",
       "\n",
       "       [[0, 0],\n",
       "        [0, 0],\n",
       "        [0, 0]]], dtype=int8)"
      ]
     },
     "execution_count": 136,
     "metadata": {},
     "output_type": "execute_result"
    }
   ],
   "source": [
    "env = tictactoe_v3.env()\n",
    "env.reset()\n",
    "env.step(4)\n",
    "env.observe('player_1')['observation']"
   ]
  },
  {
   "cell_type": "code",
   "execution_count": 137,
   "id": "28bf0d68",
   "metadata": {},
   "outputs": [
    {
     "data": {
      "text/plain": [
       "array([[[0, 0],\n",
       "        [0, 0],\n",
       "        [0, 0]],\n",
       "\n",
       "       [[0, 0],\n",
       "        [0, 1],\n",
       "        [0, 0]],\n",
       "\n",
       "       [[0, 0],\n",
       "        [0, 0],\n",
       "        [0, 0]]], dtype=int8)"
      ]
     },
     "execution_count": 137,
     "metadata": {},
     "output_type": "execute_result"
    }
   ],
   "source": [
    "env.observe('player_2')['observation']"
   ]
  },
  {
   "cell_type": "code",
   "execution_count": 138,
   "id": "60397d47",
   "metadata": {},
   "outputs": [
    {
     "data": {
      "text/plain": [
       "array([[[1, 0],\n",
       "        [1, 0],\n",
       "        [1, 0]],\n",
       "\n",
       "       [[0, 0],\n",
       "        [0, 0],\n",
       "        [0, 1]],\n",
       "\n",
       "       [[0, 1],\n",
       "        [0, 0],\n",
       "        [0, 0]]], dtype=int8)"
      ]
     },
     "execution_count": 138,
     "metadata": {},
     "output_type": "execute_result"
    }
   ],
   "source": [
    "env = tictactoe_v3.env()\n",
    "env.reset()\n",
    "env.step(0)\n",
    "env.step(6)\n",
    "env.step(1)\n",
    "env.step(5)\n",
    "env.step(2)\n",
    "\n",
    "env.observe(\"player_1\")['observation']"
   ]
  },
  {
   "cell_type": "code",
   "execution_count": 139,
   "id": "23ee5fbe",
   "metadata": {},
   "outputs": [
    {
     "data": {
      "text/plain": [
       "array([[[0, 1],\n",
       "        [0, 1],\n",
       "        [0, 1]],\n",
       "\n",
       "       [[0, 0],\n",
       "        [0, 0],\n",
       "        [1, 0]],\n",
       "\n",
       "       [[1, 0],\n",
       "        [0, 0],\n",
       "        [0, 0]]], dtype=int8)"
      ]
     },
     "execution_count": 139,
     "metadata": {},
     "output_type": "execute_result"
    }
   ],
   "source": [
    "env.step(None)\n",
    "env.observe(\"player_2\")['observation']"
   ]
  },
  {
   "cell_type": "code",
   "execution_count": 140,
   "id": "bdd3b090",
   "metadata": {},
   "outputs": [
    {
     "data": {
      "text/plain": [
       "'6c2e7780c70c674fc2c99fb84f81de15'"
      ]
     },
     "execution_count": 140,
     "metadata": {},
     "output_type": "execute_result"
    }
   ],
   "source": [
    "state = encode_state(env.render(mode = 'ansi'))\n",
    "\n",
    "state\n"
   ]
  },
  {
   "cell_type": "code",
   "execution_count": 141,
   "id": "ffdcac4d",
   "metadata": {},
   "outputs": [
    {
     "data": {
      "text/plain": [
       "defaultdict(<function __main__.<lambda>()>,\n",
       "            {'32433': 0, '-5323': 0, '2397887': 0})"
      ]
     },
     "execution_count": 141,
     "metadata": {},
     "output_type": "execute_result"
    }
   ],
   "source": [
    "from collections import defaultdict\n",
    "\n",
    "env.reset()\n",
    "\n",
    "Q = defaultdict(lambda: np.zeros(nA)) \n",
    "\n",
    "# reminder about how default dict works\n",
    "\n",
    "Q['32433'] = 0\n",
    "Q['-5323'] = 0\n",
    "Q['2397887'] = 0\n",
    "\n",
    "Q"
   ]
  },
  {
   "cell_type": "code",
   "execution_count": null,
   "id": "5f56f543",
   "metadata": {},
   "outputs": [],
   "source": []
  }
 ],
 "metadata": {
  "kernelspec": {
   "display_name": "Python 3.9 (pytorch)",
   "language": "python",
   "name": "thesis"
  },
  "language_info": {
   "codemirror_mode": {
    "name": "ipython",
    "version": 3
   },
   "file_extension": ".py",
   "mimetype": "text/x-python",
   "name": "python",
   "nbconvert_exporter": "python",
   "pygments_lexer": "ipython3",
   "version": "3.9.12"
  }
 },
 "nbformat": 4,
 "nbformat_minor": 5
}
