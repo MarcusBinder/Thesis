{
 "cells": [
  {
   "cell_type": "code",
   "execution_count": 1,
   "id": "2fe20625",
   "metadata": {},
   "outputs": [],
   "source": [
    "import gym\n",
    "import numpy as np\n",
    "\n",
    "from utils_min import plot_learning_curve\n",
    "from Custom_functions import CustomEnv5, CustomEnv2, CustomEnv6\n",
    "import os\n",
    "import matplotlib.pyplot as plt\n",
    "from td3_min import Agent\n",
    "from td3_min import ReplayBuffer\n",
    "from stable_baselines3.common.env_checker import check_env"
   ]
  },
  {
   "cell_type": "code",
   "execution_count": 6,
   "id": "0bcc3f08",
   "metadata": {},
   "outputs": [],
   "source": [
    "env = CustomEnv2(t_steps = 10, seed = 2, nx=3, ny=1)"
   ]
  },
  {
   "cell_type": "code",
   "execution_count": 7,
   "id": "435f1905",
   "metadata": {},
   "outputs": [],
   "source": [
    "check_env(env)"
   ]
  },
  {
   "cell_type": "code",
   "execution_count": 14,
   "id": "83d105bf",
   "metadata": {},
   "outputs": [
    {
     "name": "stdout",
     "output_type": "stream",
     "text": [
      "current yaw is: -10.3714 the action was 0.83308846 reward is: 1.0145009530721707 wd is: 270.0\n",
      "current yaw is: -11.191066 the action was -0.81966555 reward is: 1.015924132383169 wd is: 270.0\n",
      "current yaw is: -11.693351 the action was -0.502285 reward is: 1.0186296242686461 wd is: 270.0\n",
      "current yaw is: -11.613287 the action was 0.0800642 reward is: 1.0181930334888463 wd is: 270.0\n",
      "current yaw is: -11.798396 the action was -0.18510923 reward is: 1.0187884858340024 wd is: 270.0\n",
      "current yaw is: -11.59555 the action was 0.20284612 reward is: 1.0196596045546644 wd is: 270.0\n",
      "current yaw is: -11.051848 the action was 0.5437012 reward is: 1.0190793548189676 wd is: 270.0\n",
      "current yaw is: -10.2869215 the action was 0.76492673 reward is: 1.0165594298008538 wd is: 270.0\n",
      "current yaw is: -9.996503 the action was 0.29041836 reward is: 1.0153134816052884 wd is: 270.0\n",
      "current yaw is: -9.10945 the action was 0.8870523 reward is: 1.0153467077325347 wd is: 270.0\n",
      "current yaw is: -8.492455 the action was 0.6169957 reward is: 1.0127177008276411 wd is: 270.0\n"
     ]
    }
   ],
   "source": [
    "observation = env.reset()\n",
    "done = False\n",
    "i = 0\n",
    "while not done:\n",
    "\ti += 1\n",
    "\taction = env.action_space.sample()\n",
    "\t#perform action\n",
    "\tobservation_, reward, done, info = env.step(action)\n",
    "\tprint(\"current yaw is:\", env.yaw_current[0], \"the action was\", action[0], \"reward is:\", reward, \"wd is:\", env.wd)\n",
    "\t\n",
    "\n",
    "\n"
   ]
  },
  {
   "cell_type": "code",
   "execution_count": 23,
   "id": "e6a837cb",
   "metadata": {},
   "outputs": [],
   "source": [
    "SEED = 4\n",
    "FOLDER = \"models/TD3_test_custenv4_1/TD3_\""
   ]
  },
  {
   "cell_type": "code",
   "execution_count": 24,
   "id": "363993c4",
   "metadata": {},
   "outputs": [],
   "source": [
    "env = CustomEnv4(t_steps = 100, seed = SEED)"
   ]
  },
  {
   "cell_type": "code",
   "execution_count": 25,
   "id": "cb1cafcf",
   "metadata": {},
   "outputs": [],
   "source": [
    "agent = Agent(alpha=0.001, beta=0.001, \n",
    "            input_dims=env.observation_space.shape[0], tau=0.005,\n",
    "            env=env, layer1_size=400, layer2_size=300,\n",
    "            gamma=0.99, update_actor_interval=2,\n",
    "            n_actions=env.action_space.shape[0], seed=SEED ,folder=FOLDER,\n",
    "            policy_noise = 0.2, noise_clip = 0.5)"
   ]
  },
  {
   "cell_type": "code",
   "execution_count": 26,
   "id": "96d185e5",
   "metadata": {},
   "outputs": [],
   "source": [
    "replay_buffer = ReplayBuffer(state_dim = env.observation_space.shape[0], action_dim = env.action_space.shape[0], max_size=int(1e6))"
   ]
  },
  {
   "cell_type": "code",
   "execution_count": 27,
   "id": "d183e67c",
   "metadata": {},
   "outputs": [
    {
     "name": "stdout",
     "output_type": "stream",
     "text": [
      "episode  0 | score 102.31 | trailing  50  games avg 102.310 | best score is: -inf\n",
      "episode  1 | score 102.70 | trailing  50  games avg 102.506 | best score is: -inf\n",
      "episode  2 | score 104.01 | trailing  50  games avg 103.006 | best score is: -inf\n",
      "episode  3 | score 105.13 | trailing  50  games avg 103.536 | best score is: -inf\n",
      "episode  4 | score 102.09 | trailing  50  games avg 103.247 | best score is: -inf\n",
      "episode  5 | score 100.38 | trailing  50  games avg 102.769 | best score is: -inf\n",
      "episode  6 | score 101.07 | trailing  50  games avg 102.527 | best score is: -inf\n",
      "episode  7 | score 99.71 | trailing  50  games avg 102.175 | best score is: -inf\n",
      "episode  8 | score 99.14 | trailing  50  games avg 101.837 | best score is: -inf\n",
      "episode  9 | score 103.52 | trailing  50  games avg 102.006 | best score is: -inf\n",
      "episode  10 | score 100.66 | trailing  50  games avg 101.883 | best score is: -inf\n",
      "episode  11 | score 99.89 | trailing  50  games avg 101.717 | best score is: -inf\n",
      "episode  12 | score 104.45 | trailing  50  games avg 101.927 | best score is: -inf\n",
      "episode  13 | score 98.97 | trailing  50  games avg 101.716 | best score is: -inf\n",
      "episode  14 | score 100.44 | trailing  50  games avg 101.630 | best score is: -inf\n",
      "episode  15 | score 101.54 | trailing  50  games avg 101.625 | best score is: -inf\n",
      "episode  16 | score 101.20 | trailing  50  games avg 101.600 | best score is: -inf\n",
      "episode  17 | score 101.47 | trailing  50  games avg 101.593 | best score is: -inf\n",
      "episode  18 | score 104.12 | trailing  50  games avg 101.726 | best score is: -inf\n",
      "episode  19 | score 103.69 | trailing  50  games avg 101.824 | best score is: -inf\n",
      "episode  20 | score 99.87 | trailing  50  games avg 101.731 | best score is: -inf\n",
      "episode  21 | score 102.41 | trailing  50  games avg 101.762 | best score is: -inf\n",
      "episode  22 | score 100.01 | trailing  50  games avg 101.686 | best score is: -inf\n",
      "episode  23 | score 100.05 | trailing  50  games avg 101.617 | best score is: -inf\n",
      "episode  24 | score 101.21 | trailing  50  games avg 101.601 | best score is: -inf\n",
      "episode  25 | score 102.56 | trailing  50  games avg 101.638 | best score is: -inf\n",
      "episode  26 | score 101.52 | trailing  50  games avg 101.634 | best score is: -inf\n",
      "episode  27 | score 103.22 | trailing  50  games avg 101.690 | best score is: -inf\n",
      "episode  28 | score 100.49 | trailing  50  games avg 101.649 | best score is: -inf\n",
      "episode  29 | score 101.15 | trailing  50  games avg 101.632 | best score is: -inf\n",
      "episode  30 | score 103.90 | trailing  50  games avg 101.705 | best score is: -inf\n",
      "episode  31 | score 101.90 | trailing  50  games avg 101.711 | best score is: -inf\n",
      "episode  32 | score 100.99 | trailing  50  games avg 101.689 | best score is: -inf\n",
      "episode  33 | score 102.27 | trailing  50  games avg 101.706 | best score is: -inf\n",
      "episode  34 | score 99.96 | trailing  50  games avg 101.657 | best score is: -inf\n",
      "episode  35 | score 98.90 | trailing  50  games avg 101.580 | best score is: -inf\n",
      "episode  36 | score 102.92 | trailing  50  games avg 101.616 | best score is: -inf\n",
      "episode  37 | score 102.65 | trailing  50  games avg 101.643 | best score is: -inf\n",
      "episode  38 | score 100.94 | trailing  50  games avg 101.625 | best score is: -inf\n",
      "episode  39 | score 98.99 | trailing  50  games avg 101.560 | best score is: -inf\n",
      "episode  40 | score 102.68 | trailing  50  games avg 101.587 | best score is: -inf\n",
      "episode  41 | score 105.12 | trailing  50  games avg 101.671 | best score is: -inf\n",
      "episode  42 | score 102.15 | trailing  50  games avg 101.682 | best score is: -inf\n",
      "episode  43 | score 101.40 | trailing  50  games avg 101.676 | best score is: -inf\n",
      "episode  44 | score 101.09 | trailing  50  games avg 101.663 | best score is: -inf\n",
      "episode  45 | score 104.54 | trailing  50  games avg 101.725 | best score is: -inf\n",
      "episode  46 | score 101.52 | trailing  50  games avg 101.721 | best score is: -inf\n",
      "episode  47 | score 102.18 | trailing  50  games avg 101.730 | best score is: -inf\n",
      "episode  48 | score 104.19 | trailing  50  games avg 101.781 | best score is: -inf\n",
      "episode  49 | score 104.37 | trailing  50  games avg 101.832 | best score is: -inf\n",
      "episode  50 | score 99.86 | trailing  50  games avg 101.783 | best score is: -inf\n",
      "best avg, saving\n",
      "new pr, saving\n",
      "episode  51 | score 97.13 | trailing  50  games avg 101.672 | best score is: 97.127\n",
      "new pr, saving\n",
      "episode  52 | score 98.73 | trailing  50  games avg 101.566 | best score is: 98.728\n",
      "episode  53 | score 98.07 | trailing  50  games avg 101.425 | best score is: 98.728\n",
      "episode  54 | score 97.49 | trailing  50  games avg 101.333 | best score is: 98.728\n",
      "episode  55 | score 98.31 | trailing  50  games avg 101.292 | best score is: 98.728\n",
      "episode  56 | score 97.96 | trailing  50  games avg 101.229 | best score is: 98.728\n",
      "episode  57 | score 97.71 | trailing  50  games avg 101.189 | best score is: 98.728\n",
      "episode  58 | score 97.73 | trailing  50  games avg 101.161 | best score is: 98.728\n",
      "episode  59 | score 97.39 | trailing  50  games avg 101.039 | best score is: 98.728\n",
      "episode  60 | score 97.50 | trailing  50  games avg 100.976 | best score is: 98.728\n",
      "episode  61 | score 98.20 | trailing  50  games avg 100.942 | best score is: 98.728\n",
      "episode  62 | score 97.01 | trailing  50  games avg 100.793 | best score is: 98.728\n",
      "episode  63 | score 96.48 | trailing  50  games avg 100.743 | best score is: 98.728\n",
      "episode  64 | score 98.63 | trailing  50  games avg 100.707 | best score is: 98.728\n",
      "episode  65 | score 97.79 | trailing  50  games avg 100.632 | best score is: 98.728\n",
      "episode  66 | score 98.63 | trailing  50  games avg 100.581 | best score is: 98.728\n",
      "episode  67 | score 97.57 | trailing  50  games avg 100.503 | best score is: 98.728\n",
      "episode  68 | score 98.69 | trailing  50  games avg 100.394 | best score is: 98.728\n",
      "episode  69 | score 98.08 | trailing  50  games avg 100.282 | best score is: 98.728\n",
      "episode  70 | score 97.14 | trailing  50  games avg 100.227 | best score is: 98.728\n",
      "episode  71 | score 97.42 | trailing  50  games avg 100.128 | best score is: 98.728\n",
      "episode  72 | score 96.71 | trailing  50  games avg 100.062 | best score is: 98.728\n",
      "episode  73 | score 97.82 | trailing  50  games avg 100.017 | best score is: 98.728\n",
      "episode  74 | score 97.60 | trailing  50  games avg 99.945 | best score is: 98.728\n",
      "new pr, saving\n",
      "episode  75 | score 98.81 | trailing  50  games avg 99.870 | best score is: 98.815\n",
      "episode  76 | score 98.15 | trailing  50  games avg 99.802 | best score is: 98.815\n",
      "episode  77 | score 96.52 | trailing  50  games avg 99.668 | best score is: 98.815\n",
      "episode  78 | score 97.73 | trailing  50  games avg 99.613 | best score is: 98.815\n",
      "episode  79 | score 97.96 | trailing  50  games avg 99.549 | best score is: 98.815\n",
      "episode  80 | score 98.17 | trailing  50  games avg 99.435 | best score is: 98.815\n",
      "episode  81 | score 97.75 | trailing  50  games avg 99.352 | best score is: 98.815\n",
      "episode  82 | score 95.34 | trailing  50  games avg 99.239 | best score is: 98.815\n",
      "episode  83 | score 97.42 | trailing  50  games avg 99.142 | best score is: 98.815\n",
      "episode  84 | score 97.34 | trailing  50  games avg 99.089 | best score is: 98.815\n",
      "episode  85 | score 95.91 | trailing  50  games avg 99.030 | best score is: 98.815\n",
      "episode  86 | score 96.49 | trailing  50  games avg 98.901 | best score is: 98.815\n",
      "episode  87 | score 95.97 | trailing  50  games avg 98.768 | best score is: 98.815\n",
      "episode  88 | score 96.40 | trailing  50  games avg 98.677 | best score is: 98.815\n",
      "episode  89 | score 96.09 | trailing  50  games avg 98.619 | best score is: 98.815\n",
      "episode  90 | score 96.72 | trailing  50  games avg 98.500 | best score is: 98.815\n",
      "episode  91 | score 96.45 | trailing  50  games avg 98.326 | best score is: 98.815\n",
      "episode  92 | score 96.14 | trailing  50  games avg 98.206 | best score is: 98.815\n",
      "episode  93 | score 97.13 | trailing  50  games avg 98.121 | best score is: 98.815\n",
      "episode  94 | score 98.63 | trailing  50  games avg 98.071 | best score is: 98.815\n",
      "episode  95 | score 96.17 | trailing  50  games avg 97.904 | best score is: 98.815\n",
      "episode  96 | score 96.03 | trailing  50  games avg 97.794 | best score is: 98.815\n",
      "episode  97 | score 97.78 | trailing  50  games avg 97.706 | best score is: 98.815\n",
      "episode  98 | score 96.42 | trailing  50  games avg 97.551 | best score is: 98.815\n",
      "episode  99 | score 98.78 | trailing  50  games avg 97.439 | best score is: 98.815\n",
      "episode  100 | score 98.23 | trailing  50  games avg 97.406 | best score is: 98.815\n",
      "episode  101 | score 98.62 | trailing  50  games avg 97.436 | best score is: 98.815\n",
      "new pr, saving\n",
      "episode  102 | score 99.26 | trailing  50  games avg 97.447 | best score is: 99.258\n",
      "episode  103 | score 98.77 | trailing  50  games avg 97.461 | best score is: 99.258\n",
      "new pr, saving\n",
      "episode  104 | score 100.71 | trailing  50  games avg 97.525 | best score is: 100.707\n",
      "episode  105 | score 99.44 | trailing  50  games avg 97.548 | best score is: 100.707\n",
      "episode  106 | score 99.75 | trailing  50  games avg 97.584 | best score is: 100.707\n",
      "new pr, saving\n",
      "episode  107 | score 101.69 | trailing  50  games avg 97.663 | best score is: 101.693\n",
      "episode  108 | score 98.95 | trailing  50  games avg 97.688 | best score is: 101.693\n",
      "episode  109 | score 98.73 | trailing  50  games avg 97.715 | best score is: 101.693\n",
      "episode  110 | score 97.26 | trailing  50  games avg 97.710 | best score is: 101.693\n",
      "episode  111 | score 98.96 | trailing  50  games avg 97.725 | best score is: 101.693\n",
      "new pr, saving\n",
      "episode  112 | score 103.55 | trailing  50  games avg 97.855 | best score is: 103.547\n",
      "episode  113 | score 101.93 | trailing  50  games avg 97.964 | best score is: 103.547\n",
      "episode  114 | score 99.45 | trailing  50  games avg 97.981 | best score is: 103.547\n",
      "episode  115 | score 98.35 | trailing  50  games avg 97.992 | best score is: 103.547\n",
      "episode  116 | score 99.67 | trailing  50  games avg 98.013 | best score is: 103.547\n",
      "episode  117 | score 100.63 | trailing  50  games avg 98.074 | best score is: 103.547\n",
      "episode  118 | score 102.28 | trailing  50  games avg 98.146 | best score is: 103.547\n",
      "episode  119 | score 98.80 | trailing  50  games avg 98.160 | best score is: 103.547\n",
      "episode  120 | score 101.33 | trailing  50  games avg 98.244 | best score is: 103.547\n",
      "episode  121 | score 98.19 | trailing  50  games avg 98.259 | best score is: 103.547\n",
      "episode  122 | score 97.17 | trailing  50  games avg 98.268 | best score is: 103.547\n",
      "episode  123 | score 98.71 | trailing  50  games avg 98.286 | best score is: 103.547\n",
      "episode  124 | score 99.04 | trailing  50  games avg 98.315 | best score is: 103.547\n",
      "episode  125 | score 100.85 | trailing  50  games avg 98.356 | best score is: 103.547\n",
      "episode  126 | score 96.93 | trailing  50  games avg 98.331 | best score is: 103.547\n",
      "episode  127 | score 102.23 | trailing  50  games avg 98.446 | best score is: 103.547\n",
      "episode  128 | score 98.92 | trailing  50  games avg 98.469 | best score is: 103.547\n",
      "episode  129 | score 101.72 | trailing  50  games avg 98.545 | best score is: 103.547\n",
      "episode  130 | score 101.33 | trailing  50  games avg 98.608 | best score is: 103.547\n",
      "episode  131 | score 101.64 | trailing  50  games avg 98.685 | best score is: 103.547\n",
      "episode  132 | score 100.58 | trailing  50  games avg 98.790 | best score is: 103.547\n",
      "episode  133 | score 102.53 | trailing  50  games avg 98.892 | best score is: 103.547\n",
      "episode  134 | score 103.04 | trailing  50  games avg 99.006 | best score is: 103.547\n",
      "episode  135 | score 102.38 | trailing  50  games avg 99.136 | best score is: 103.547\n",
      "episode  136 | score 102.62 | trailing  50  games avg 99.258 | best score is: 103.547\n",
      "episode  137 | score 99.89 | trailing  50  games avg 99.337 | best score is: 103.547\n",
      "episode  138 | score 101.30 | trailing  50  games avg 99.435 | best score is: 103.547\n",
      "episode  139 | score 99.33 | trailing  50  games avg 99.500 | best score is: 103.547\n",
      "episode  140 | score 101.29 | trailing  50  games avg 99.591 | best score is: 103.547\n",
      "episode  141 | score 102.77 | trailing  50  games avg 99.717 | best score is: 103.547\n",
      "episode  142 | score 98.51 | trailing  50  games avg 99.765 | best score is: 103.547\n",
      "episode  143 | score 101.01 | trailing  50  games avg 99.843 | best score is: 103.547\n",
      "episode  144 | score 103.13 | trailing  50  games avg 99.933 | best score is: 103.547\n",
      "episode  145 | score 100.34 | trailing  50  games avg 100.016 | best score is: 103.547\n",
      "episode  146 | score 102.73 | trailing  50  games avg 100.150 | best score is: 103.547\n",
      "episode  147 | score 100.30 | trailing  50  games avg 100.200 | best score is: 103.547\n",
      "episode  148 | score 102.46 | trailing  50  games avg 100.321 | best score is: 103.547\n",
      "episode  149 | score 100.77 | trailing  50  games avg 100.361 | best score is: 103.547\n",
      "episode  150 | score 101.47 | trailing  50  games avg 100.426 | best score is: 103.547\n",
      "episode  151 | score 102.53 | trailing  50  games avg 100.504 | best score is: 103.547\n",
      "episode  152 | score 99.82 | trailing  50  games avg 100.516 | best score is: 103.547\n",
      "episode  153 | score 103.35 | trailing  50  games avg 100.607 | best score is: 103.547\n",
      "episode  154 | score 99.95 | trailing  50  games avg 100.592 | best score is: 103.547\n",
      "new pr, saving\n",
      "episode  155 | score 104.22 | trailing  50  games avg 100.688 | best score is: 104.221\n",
      "episode  156 | score 100.45 | trailing  50  games avg 100.702 | best score is: 104.221\n",
      "episode  157 | score 104.10 | trailing  50  games avg 100.750 | best score is: 104.221\n",
      "episode  158 | score 101.18 | trailing  50  games avg 100.795 | best score is: 104.221\n",
      "episode  159 | score 100.48 | trailing  50  games avg 100.830 | best score is: 104.221\n",
      "episode  160 | score 99.46 | trailing  50  games avg 100.874 | best score is: 104.221\n",
      "episode  161 | score 102.31 | trailing  50  games avg 100.941 | best score is: 104.221\n",
      "episode  162 | score 100.52 | trailing  50  games avg 100.880 | best score is: 104.221\n",
      "episode  163 | score 98.64 | trailing  50  games avg 100.814 | best score is: 104.221\n",
      "new pr, saving\n",
      "episode  164 | score 104.51 | trailing  50  games avg 100.916 | best score is: 104.510\n",
      "episode  165 | score 103.93 | trailing  50  games avg 101.027 | best score is: 104.510\n",
      "episode  166 | score 103.21 | trailing  50  games avg 101.098 | best score is: 104.510\n",
      "episode  167 | score 102.63 | trailing  50  games avg 101.138 | best score is: 104.510\n",
      "episode  168 | score 103.88 | trailing  50  games avg 101.170 | best score is: 104.510\n",
      "episode  169 | score 101.04 | trailing  50  games avg 101.215 | best score is: 104.510\n",
      "episode  170 | score 102.34 | trailing  50  games avg 101.235 | best score is: 104.510\n",
      "episode  171 | score 99.72 | trailing  50  games avg 101.266 | best score is: 104.510\n",
      "episode  172 | score 102.87 | trailing  50  games avg 101.380 | best score is: 104.510\n",
      "episode  173 | score 101.38 | trailing  50  games avg 101.433 | best score is: 104.510\n",
      "episode  174 | score 96.45 | trailing  50  games avg 101.382 | best score is: 104.510\n",
      "episode  175 | score 98.86 | trailing  50  games avg 101.342 | best score is: 104.510\n",
      "episode  176 | score 101.37 | trailing  50  games avg 101.431 | best score is: 104.510\n",
      "episode  177 | score 99.79 | trailing  50  games avg 101.382 | best score is: 104.510\n",
      "episode  178 | score 104.26 | trailing  50  games avg 101.489 | best score is: 104.510\n",
      "episode  179 | score 102.81 | trailing  50  games avg 101.511 | best score is: 104.510\n",
      "episode  180 | score 99.45 | trailing  50  games avg 101.473 | best score is: 104.510\n",
      "episode  181 | score 99.15 | trailing  50  games avg 101.423 | best score is: 104.510\n",
      "episode  182 | score 101.40 | trailing  50  games avg 101.440 | best score is: 104.510\n",
      "episode  183 | score 102.09 | trailing  50  games avg 101.431 | best score is: 104.510\n",
      "episode  184 | score 100.12 | trailing  50  games avg 101.372 | best score is: 104.510\n",
      "new pr, saving\n",
      "episode  185 | score 104.88 | trailing  50  games avg 101.422 | best score is: 104.875\n",
      "episode  186 | score 102.15 | trailing  50  games avg 101.413 | best score is: 104.875\n",
      "episode  187 | score 101.00 | trailing  50  games avg 101.435 | best score is: 104.875\n",
      "episode  188 | score 100.40 | trailing  50  games avg 101.417 | best score is: 104.875\n",
      "episode  189 | score 102.50 | trailing  50  games avg 101.480 | best score is: 104.875\n",
      "episode  190 | score 102.38 | trailing  50  games avg 101.502 | best score is: 104.875\n",
      "episode  191 | score 101.02 | trailing  50  games avg 101.467 | best score is: 104.875\n",
      "episode  192 | score 102.22 | trailing  50  games avg 101.541 | best score is: 104.875\n",
      "episode  193 | score 100.44 | trailing  50  games avg 101.530 | best score is: 104.875\n",
      "episode  194 | score 104.54 | trailing  50  games avg 101.558 | best score is: 104.875\n",
      "episode  195 | score 102.79 | trailing  50  games avg 101.607 | best score is: 104.875\n",
      "episode  196 | score 100.83 | trailing  50  games avg 101.569 | best score is: 104.875\n",
      "episode  197 | score 102.30 | trailing  50  games avg 101.609 | best score is: 104.875\n",
      "episode  198 | score 102.97 | trailing  50  games avg 101.619 | best score is: 104.875\n",
      "best avg, saving\n",
      "episode  199 | score 104.45 | trailing  50  games avg 101.692 | best score is: 104.875\n",
      "best avg, saving\n",
      "episode  200 | score 102.76 | trailing  50  games avg 101.718 | best score is: 104.875\n",
      "episode  201 | score 101.53 | trailing  50  games avg 101.698 | best score is: 104.875\n",
      "best avg, saving\n",
      "episode  202 | score 102.03 | trailing  50  games avg 101.742 | best score is: 104.875\n",
      "best avg, saving\n",
      "episode  203 | score 103.91 | trailing  50  games avg 101.753 | best score is: 104.875\n",
      "best avg, saving\n",
      "episode  204 | score 100.59 | trailing  50  games avg 101.766 | best score is: 104.875\n",
      "episode  205 | score 101.92 | trailing  50  games avg 101.720 | best score is: 104.875\n",
      "episode  206 | score 99.75 | trailing  50  games avg 101.706 | best score is: 104.875\n",
      "episode  207 | score 103.12 | trailing  50  games avg 101.686 | best score is: 104.875\n",
      "episode  208 | score 101.56 | trailing  50  games avg 101.694 | best score is: 104.875\n",
      "episode  209 | score 100.07 | trailing  50  games avg 101.686 | best score is: 104.875\n",
      "episode  210 | score 100.34 | trailing  50  games avg 101.703 | best score is: 104.875\n",
      "episode  211 | score 103.66 | trailing  50  games avg 101.730 | best score is: 104.875\n",
      "episode  212 | score 101.46 | trailing  50  games avg 101.749 | best score is: 104.875\n",
      "best avg, saving\n",
      "episode  213 | score 102.91 | trailing  50  games avg 101.835 | best score is: 104.875\n",
      "episode  214 | score 103.47 | trailing  50  games avg 101.814 | best score is: 104.875\n",
      "episode  215 | score 101.45 | trailing  50  games avg 101.764 | best score is: 104.875\n",
      "episode  216 | score 101.26 | trailing  50  games avg 101.725 | best score is: 104.875\n",
      "episode  217 | score 103.32 | trailing  50  games avg 101.739 | best score is: 104.875\n",
      "episode  218 | score 99.09 | trailing  50  games avg 101.643 | best score is: 104.875\n",
      "episode  219 | score 99.34 | trailing  50  games avg 101.609 | best score is: 104.875\n",
      "episode  220 | score 103.21 | trailing  50  games avg 101.626 | best score is: 104.875\n",
      "episode  221 | score 101.95 | trailing  50  games avg 101.671 | best score is: 104.875\n",
      "episode  222 | score 101.07 | trailing  50  games avg 101.635 | best score is: 104.875\n",
      "episode  223 | score 99.79 | trailing  50  games avg 101.603 | best score is: 104.875\n",
      "episode  224 | score 101.26 | trailing  50  games avg 101.699 | best score is: 104.875\n",
      "episode  225 | score 100.94 | trailing  50  games avg 101.741 | best score is: 104.875\n",
      "episode  226 | score 101.26 | trailing  50  games avg 101.739 | best score is: 104.875\n",
      "episode  227 | score 103.35 | trailing  50  games avg 101.810 | best score is: 104.875\n",
      "episode  228 | score 101.26 | trailing  50  games avg 101.750 | best score is: 104.875\n",
      "episode  229 | score 101.59 | trailing  50  games avg 101.725 | best score is: 104.875\n",
      "episode  230 | score 102.94 | trailing  50  games avg 101.795 | best score is: 104.875\n",
      "best avg, saving\n",
      "episode  231 | score 101.53 | trailing  50  games avg 101.843 | best score is: 104.875\n",
      "episode  232 | score 99.93 | trailing  50  games avg 101.813 | best score is: 104.875\n",
      "episode  233 | score 102.52 | trailing  50  games avg 101.822 | best score is: 104.875\n",
      "best avg, saving\n",
      "episode  234 | score 101.24 | trailing  50  games avg 101.844 | best score is: 104.875\n",
      "episode  235 | score 101.84 | trailing  50  games avg 101.784 | best score is: 104.875\n",
      "episode  236 | score 100.67 | trailing  50  games avg 101.754 | best score is: 104.875\n",
      "episode  237 | score 98.82 | trailing  50  games avg 101.710 | best score is: 104.875\n",
      "episode  238 | score 100.27 | trailing  50  games avg 101.708 | best score is: 104.875\n",
      "episode  239 | score 102.29 | trailing  50  games avg 101.704 | best score is: 104.875\n",
      "episode  240 | score 100.46 | trailing  50  games avg 101.665 | best score is: 104.875\n",
      "episode  241 | score 101.65 | trailing  50  games avg 101.678 | best score is: 104.875\n",
      "episode  242 | score 102.14 | trailing  50  games avg 101.676 | best score is: 104.875\n",
      "episode  243 | score 98.83 | trailing  50  games avg 101.644 | best score is: 104.875\n",
      "episode  244 | score 100.52 | trailing  50  games avg 101.564 | best score is: 104.875\n",
      "episode  245 | score 99.82 | trailing  50  games avg 101.504 | best score is: 104.875\n",
      "episode  246 | score 101.62 | trailing  50  games avg 101.520 | best score is: 104.875\n",
      "new pr, saving\n",
      "episode  247 | score 104.95 | trailing  50  games avg 101.573 | best score is: 104.953\n",
      "episode  248 | score 103.66 | trailing  50  games avg 101.587 | best score is: 104.953\n",
      "episode  249 | score 102.62 | trailing  50  games avg 101.550 | best score is: 104.953\n",
      "episode  250 | score 100.30 | trailing  50  games avg 101.501 | best score is: 104.953\n",
      "episode  251 | score 97.89 | trailing  50  games avg 101.428 | best score is: 104.953\n",
      "episode  252 | score 101.71 | trailing  50  games avg 101.422 | best score is: 104.953\n",
      "episode  253 | score 102.20 | trailing  50  games avg 101.388 | best score is: 104.953\n",
      "episode  254 | score 102.95 | trailing  50  games avg 101.435 | best score is: 104.953\n",
      "episode  255 | score 104.47 | trailing  50  games avg 101.486 | best score is: 104.953\n",
      "episode  256 | score 99.76 | trailing  50  games avg 101.486 | best score is: 104.953\n",
      "episode  257 | score 102.73 | trailing  50  games avg 101.478 | best score is: 104.953\n",
      "episode  258 | score 103.38 | trailing  50  games avg 101.515 | best score is: 104.953\n",
      "episode  259 | score 102.40 | trailing  50  games avg 101.562 | best score is: 104.953\n",
      "episode  260 | score 101.82 | trailing  50  games avg 101.591 | best score is: 104.953\n",
      "episode  261 | score 102.05 | trailing  50  games avg 101.559 | best score is: 104.953\n",
      "episode  262 | score 103.32 | trailing  50  games avg 101.596 | best score is: 104.953\n",
      "episode  263 | score 102.53 | trailing  50  games avg 101.589 | best score is: 104.953\n",
      "episode  264 | score 100.88 | trailing  50  games avg 101.537 | best score is: 104.953\n",
      "episode  265 | score 101.49 | trailing  50  games avg 101.538 | best score is: 104.953\n",
      "episode  266 | score 100.88 | trailing  50  games avg 101.530 | best score is: 104.953\n",
      "episode  267 | score 101.65 | trailing  50  games avg 101.497 | best score is: 104.953\n",
      "episode  268 | score 104.02 | trailing  50  games avg 101.595 | best score is: 104.953\n",
      "episode  269 | score 98.61 | trailing  50  games avg 101.581 | best score is: 104.953\n",
      "episode  270 | score 104.42 | trailing  50  games avg 101.605 | best score is: 104.953\n",
      "episode  271 | score 98.58 | trailing  50  games avg 101.537 | best score is: 104.953\n",
      "episode  272 | score 102.18 | trailing  50  games avg 101.560 | best score is: 104.953\n",
      "episode  273 | score 99.81 | trailing  50  games avg 101.560 | best score is: 104.953\n",
      "episode  274 | score 99.41 | trailing  50  games avg 101.523 | best score is: 104.953\n",
      "episode  275 | score 97.17 | trailing  50  games avg 101.448 | best score is: 104.953\n",
      "episode  276 | score 99.80 | trailing  50  games avg 101.419 | best score is: 104.953\n",
      "episode  277 | score 101.61 | trailing  50  games avg 101.384 | best score is: 104.953\n",
      "episode  278 | score 102.59 | trailing  50  games avg 101.410 | best score is: 104.953\n",
      "episode  279 | score 97.68 | trailing  50  games avg 101.332 | best score is: 104.953\n",
      "episode  280 | score 99.09 | trailing  50  games avg 101.255 | best score is: 104.953\n",
      "episode  281 | score 102.87 | trailing  50  games avg 101.282 | best score is: 104.953\n",
      "episode  282 | score 102.05 | trailing  50  games avg 101.324 | best score is: 104.953\n",
      "episode  283 | score 101.67 | trailing  50  games avg 101.307 | best score is: 104.953\n",
      "episode  284 | score 100.37 | trailing  50  games avg 101.290 | best score is: 104.953\n",
      "episode  285 | score 100.69 | trailing  50  games avg 101.267 | best score is: 104.953\n",
      "episode  286 | score 101.92 | trailing  50  games avg 101.292 | best score is: 104.953\n",
      "episode  287 | score 101.03 | trailing  50  games avg 101.336 | best score is: 104.953\n",
      "episode  288 | score 101.34 | trailing  50  games avg 101.358 | best score is: 104.953\n",
      "episode  289 | score 102.92 | trailing  50  games avg 101.370 | best score is: 104.953\n",
      "episode  290 | score 102.52 | trailing  50  games avg 101.412 | best score is: 104.953\n",
      "episode  291 | score 102.11 | trailing  50  games avg 101.421 | best score is: 104.953\n",
      "episode  292 | score 100.80 | trailing  50  games avg 101.394 | best score is: 104.953\n",
      "episode  293 | score 101.02 | trailing  50  games avg 101.438 | best score is: 104.953\n",
      "episode  294 | score 100.84 | trailing  50  games avg 101.444 | best score is: 104.953\n",
      "episode  295 | score 101.38 | trailing  50  games avg 101.476 | best score is: 104.953\n",
      "episode  296 | score 103.82 | trailing  50  games avg 101.520 | best score is: 104.953\n",
      "episode  297 | score 101.40 | trailing  50  games avg 101.448 | best score is: 104.953\n",
      "episode  298 | score 102.81 | trailing  50  games avg 101.432 | best score is: 104.953\n",
      "episode  299 | score 101.63 | trailing  50  games avg 101.412 | best score is: 104.953\n",
      "episode  300 | score 102.82 | trailing  50  games avg 101.462 | best score is: 104.953\n",
      "episode  301 | score 104.71 | trailing  50  games avg 101.599 | best score is: 104.953\n",
      "episode  302 | score 101.75 | trailing  50  games avg 101.599 | best score is: 104.953\n",
      "episode  303 | score 99.14 | trailing  50  games avg 101.538 | best score is: 104.953\n",
      "episode  304 | score 101.45 | trailing  50  games avg 101.508 | best score is: 104.953\n",
      "episode  305 | score 102.15 | trailing  50  games avg 101.462 | best score is: 104.953\n",
      "episode  306 | score 100.04 | trailing  50  games avg 101.467 | best score is: 104.953\n",
      "episode  307 | score 101.04 | trailing  50  games avg 101.434 | best score is: 104.953\n",
      "episode  308 | score 100.20 | trailing  50  games avg 101.370 | best score is: 104.953\n",
      "episode  309 | score 98.37 | trailing  50  games avg 101.290 | best score is: 104.953\n",
      "episode  310 | score 101.31 | trailing  50  games avg 101.279 | best score is: 104.953\n",
      "episode  311 | score 102.61 | trailing  50  games avg 101.290 | best score is: 104.953\n",
      "episode  312 | score 101.73 | trailing  50  games avg 101.259 | best score is: 104.953\n",
      "episode  313 | score 101.90 | trailing  50  games avg 101.246 | best score is: 104.953\n",
      "episode  314 | score 102.71 | trailing  50  games avg 101.283 | best score is: 104.953\n",
      "episode  315 | score 101.12 | trailing  50  games avg 101.275 | best score is: 104.953\n",
      "episode  316 | score 102.80 | trailing  50  games avg 101.314 | best score is: 104.953\n",
      "episode  317 | score 101.69 | trailing  50  games avg 101.314 | best score is: 104.953\n",
      "episode  318 | score 102.54 | trailing  50  games avg 101.285 | best score is: 104.953\n",
      "episode  319 | score 101.03 | trailing  50  games avg 101.333 | best score is: 104.953\n",
      "episode  320 | score 99.67 | trailing  50  games avg 101.238 | best score is: 104.953\n",
      "episode  321 | score 100.40 | trailing  50  games avg 101.274 | best score is: 104.953\n",
      "episode  322 | score 99.73 | trailing  50  games avg 101.225 | best score is: 104.953\n",
      "episode  323 | score 100.80 | trailing  50  games avg 101.245 | best score is: 104.953\n",
      "episode  324 | score 100.32 | trailing  50  games avg 101.263 | best score is: 104.953\n",
      "episode  325 | score 103.40 | trailing  50  games avg 101.388 | best score is: 104.953\n",
      "episode  326 | score 101.18 | trailing  50  games avg 101.416 | best score is: 104.953\n",
      "episode  327 | score 101.87 | trailing  50  games avg 101.421 | best score is: 104.953\n",
      "episode  328 | score 99.58 | trailing  50  games avg 101.361 | best score is: 104.953\n",
      "episode  329 | score 99.99 | trailing  50  games avg 101.407 | best score is: 104.953\n",
      "episode  330 | score 101.49 | trailing  50  games avg 101.455 | best score is: 104.953\n",
      "new pr, saving\n",
      "episode  331 | score 105.92 | trailing  50  games avg 101.516 | best score is: 105.923\n",
      "episode  332 | score 102.17 | trailing  50  games avg 101.518 | best score is: 105.923\n",
      "episode  333 | score 103.33 | trailing  50  games avg 101.552 | best score is: 105.923\n",
      "episode  334 | score 101.62 | trailing  50  games avg 101.577 | best score is: 105.923\n",
      "episode  335 | score 102.94 | trailing  50  games avg 101.622 | best score is: 105.923\n",
      "episode  336 | score 99.89 | trailing  50  games avg 101.581 | best score is: 105.923\n",
      "episode  337 | score 102.84 | trailing  50  games avg 101.617 | best score is: 105.923\n",
      "episode  338 | score 100.29 | trailing  50  games avg 101.596 | best score is: 105.923\n",
      "episode  339 | score 103.59 | trailing  50  games avg 101.610 | best score is: 105.923\n",
      "episode  340 | score 104.74 | trailing  50  games avg 101.654 | best score is: 105.923\n",
      "episode  341 | score 101.45 | trailing  50  games avg 101.641 | best score is: 105.923\n",
      "episode  342 | score 103.01 | trailing  50  games avg 101.685 | best score is: 105.923\n",
      "episode  343 | score 102.69 | trailing  50  games avg 101.719 | best score is: 105.923\n",
      "episode  344 | score 101.68 | trailing  50  games avg 101.735 | best score is: 105.923\n",
      "episode  345 | score 100.75 | trailing  50  games avg 101.723 | best score is: 105.923\n",
      "episode  346 | score 102.33 | trailing  50  games avg 101.693 | best score is: 105.923\n",
      "episode  347 | score 101.15 | trailing  50  games avg 101.688 | best score is: 105.923\n",
      "episode  348 | score 99.79 | trailing  50  games avg 101.627 | best score is: 105.923\n",
      "episode  349 | score 101.03 | trailing  50  games avg 101.615 | best score is: 105.923\n",
      "episode  350 | score 103.48 | trailing  50  games avg 101.629 | best score is: 105.923\n",
      "episode  351 | score 105.19 | trailing  50  games avg 101.638 | best score is: 105.923\n",
      "episode  352 | score 102.50 | trailing  50  games avg 101.653 | best score is: 105.923\n",
      "episode  353 | score 100.38 | trailing  50  games avg 101.678 | best score is: 105.923\n",
      "episode  354 | score 99.80 | trailing  50  games avg 101.645 | best score is: 105.923\n",
      "episode  355 | score 101.64 | trailing  50  games avg 101.635 | best score is: 105.923\n",
      "episode  356 | score 103.02 | trailing  50  games avg 101.694 | best score is: 105.923\n",
      "episode  357 | score 101.50 | trailing  50  games avg 101.704 | best score is: 105.923\n",
      "episode  358 | score 103.39 | trailing  50  games avg 101.767 | best score is: 105.923\n",
      "best avg, saving\n",
      "episode  359 | score 103.97 | trailing  50  games avg 101.879 | best score is: 105.923\n",
      "best avg, saving\n",
      "episode  360 | score 102.60 | trailing  50  games avg 101.905 | best score is: 105.923\n",
      "episode  361 | score 101.51 | trailing  50  games avg 101.883 | best score is: 105.923\n",
      "episode  362 | score 101.80 | trailing  50  games avg 101.885 | best score is: 105.923\n",
      "episode  363 | score 101.66 | trailing  50  games avg 101.880 | best score is: 105.923\n",
      "episode  364 | score 100.50 | trailing  50  games avg 101.836 | best score is: 105.923\n",
      "episode  365 | score 103.55 | trailing  50  games avg 101.884 | best score is: 105.923\n",
      "episode  366 | score 102.29 | trailing  50  games avg 101.874 | best score is: 105.923\n",
      "episode  367 | score 100.60 | trailing  50  games avg 101.852 | best score is: 105.923\n",
      "episode  368 | score 101.31 | trailing  50  games avg 101.828 | best score is: 105.923\n",
      "episode  369 | score 101.96 | trailing  50  games avg 101.847 | best score is: 105.923\n",
      "episode  370 | score 101.72 | trailing  50  games avg 101.888 | best score is: 105.923\n",
      "best avg, saving\n",
      "episode  371 | score 102.46 | trailing  50  games avg 101.929 | best score is: 105.923\n",
      "best avg, saving\n",
      "episode  372 | score 101.10 | trailing  50  games avg 101.956 | best score is: 105.923\n",
      "episode  373 | score 99.99 | trailing  50  games avg 101.940 | best score is: 105.923\n",
      "episode  374 | score 99.11 | trailing  50  games avg 101.916 | best score is: 105.923\n",
      "episode  375 | score 103.17 | trailing  50  games avg 101.911 | best score is: 105.923\n",
      "best avg, saving\n",
      "episode  376 | score 104.47 | trailing  50  games avg 101.977 | best score is: 105.923\n",
      "episode  377 | score 99.38 | trailing  50  games avg 101.927 | best score is: 105.923\n",
      "best avg, saving\n",
      "episode  378 | score 102.42 | trailing  50  games avg 101.984 | best score is: 105.923\n",
      "best avg, saving\n",
      "episode  379 | score 104.00 | trailing  50  games avg 102.064 | best score is: 105.923\n",
      "episode  380 | score 100.66 | trailing  50  games avg 102.047 | best score is: 105.923\n",
      "episode  381 | score 101.66 | trailing  50  games avg 101.962 | best score is: 105.923\n",
      "episode  382 | score 103.57 | trailing  50  games avg 101.990 | best score is: 105.923\n",
      "episode  383 | score 101.01 | trailing  50  games avg 101.944 | best score is: 105.923\n",
      "episode  384 | score 100.01 | trailing  50  games avg 101.912 | best score is: 105.923\n",
      "episode  385 | score 100.63 | trailing  50  games avg 101.866 | best score is: 105.923\n",
      "episode  386 | score 101.38 | trailing  50  games avg 101.895 | best score is: 105.923\n",
      "episode  387 | score 101.60 | trailing  50  games avg 101.871 | best score is: 105.923\n",
      "episode  388 | score 103.23 | trailing  50  games avg 101.929 | best score is: 105.923\n",
      "episode  389 | score 104.82 | trailing  50  games avg 101.954 | best score is: 105.923\n",
      "episode  390 | score 102.76 | trailing  50  games avg 101.914 | best score is: 105.923\n",
      "episode  391 | score 98.55 | trailing  50  games avg 101.856 | best score is: 105.923\n",
      "episode  392 | score 102.92 | trailing  50  games avg 101.854 | best score is: 105.923\n",
      "episode  393 | score 101.80 | trailing  50  games avg 101.836 | best score is: 105.923\n",
      "episode  394 | score 100.95 | trailing  50  games avg 101.822 | best score is: 105.923\n",
      "episode  395 | score 98.69 | trailing  50  games avg 101.781 | best score is: 105.923\n",
      "episode  396 | score 101.33 | trailing  50  games avg 101.760 | best score is: 105.923\n",
      "episode  397 | score 100.43 | trailing  50  games avg 101.746 | best score is: 105.923\n",
      "episode  398 | score 101.75 | trailing  50  games avg 101.785 | best score is: 105.923\n",
      "episode  399 | score 101.53 | trailing  50  games avg 101.795 | best score is: 105.923\n",
      "episode  400 | score 101.76 | trailing  50  games avg 101.761 | best score is: 105.923\n",
      "episode  401 | score 100.69 | trailing  50  games avg 101.671 | best score is: 105.923\n",
      "episode  402 | score 101.37 | trailing  50  games avg 101.648 | best score is: 105.923\n",
      "episode  403 | score 103.85 | trailing  50  games avg 101.718 | best score is: 105.923\n",
      "episode  404 | score 101.77 | trailing  50  games avg 101.757 | best score is: 105.923\n",
      "episode  405 | score 104.22 | trailing  50  games avg 101.809 | best score is: 105.923\n",
      "episode  406 | score 100.73 | trailing  50  games avg 101.763 | best score is: 105.923\n",
      "episode  407 | score 101.05 | trailing  50  games avg 101.754 | best score is: 105.923\n",
      "episode  408 | score 99.97 | trailing  50  games avg 101.686 | best score is: 105.923\n",
      "episode  409 | score 100.20 | trailing  50  games avg 101.610 | best score is: 105.923\n",
      "episode  410 | score 103.20 | trailing  50  games avg 101.622 | best score is: 105.923\n",
      "episode  411 | score 103.49 | trailing  50  games avg 101.662 | best score is: 105.923\n",
      "episode  412 | score 101.62 | trailing  50  games avg 101.658 | best score is: 105.923\n",
      "episode  413 | score 101.21 | trailing  50  games avg 101.649 | best score is: 105.923\n",
      "episode  414 | score 101.21 | trailing  50  games avg 101.663 | best score is: 105.923\n",
      "episode  415 | score 101.27 | trailing  50  games avg 101.618 | best score is: 105.923\n",
      "episode  416 | score 102.32 | trailing  50  games avg 101.618 | best score is: 105.923\n",
      "episode  417 | score 103.48 | trailing  50  games avg 101.676 | best score is: 105.923\n",
      "episode  418 | score 98.49 | trailing  50  games avg 101.619 | best score is: 105.923\n",
      "episode  419 | score 101.86 | trailing  50  games avg 101.617 | best score is: 105.923\n",
      "episode  420 | score 102.14 | trailing  50  games avg 101.626 | best score is: 105.923\n",
      "episode  421 | score 100.59 | trailing  50  games avg 101.588 | best score is: 105.923\n",
      "episode  422 | score 100.60 | trailing  50  games avg 101.578 | best score is: 105.923\n",
      "episode  423 | score 102.84 | trailing  50  games avg 101.636 | best score is: 105.923\n",
      "episode  424 | score 100.84 | trailing  50  games avg 101.670 | best score is: 105.923\n",
      "episode  425 | score 102.42 | trailing  50  games avg 101.655 | best score is: 105.923\n",
      "episode  426 | score 102.84 | trailing  50  games avg 101.622 | best score is: 105.923\n",
      "episode  427 | score 101.89 | trailing  50  games avg 101.672 | best score is: 105.923\n",
      "episode  428 | score 101.51 | trailing  50  games avg 101.654 | best score is: 105.923\n",
      "episode  429 | score 102.91 | trailing  50  games avg 101.632 | best score is: 105.923\n",
      "episode  430 | score 101.32 | trailing  50  games avg 101.646 | best score is: 105.923\n",
      "episode  431 | score 101.96 | trailing  50  games avg 101.652 | best score is: 105.923\n",
      "episode  432 | score 101.89 | trailing  50  games avg 101.618 | best score is: 105.923\n",
      "episode  433 | score 103.11 | trailing  50  games avg 101.660 | best score is: 105.923\n",
      "episode  434 | score 102.70 | trailing  50  games avg 101.713 | best score is: 105.923\n",
      "episode  435 | score 101.00 | trailing  50  games avg 101.721 | best score is: 105.923\n",
      "episode  436 | score 102.38 | trailing  50  games avg 101.741 | best score is: 105.923\n",
      "episode  437 | score 101.54 | trailing  50  games avg 101.740 | best score is: 105.923\n",
      "episode  438 | score 101.03 | trailing  50  games avg 101.696 | best score is: 105.923\n",
      "episode  439 | score 99.46 | trailing  50  games avg 101.589 | best score is: 105.923\n",
      "episode  440 | score 98.84 | trailing  50  games avg 101.510 | best score is: 105.923\n",
      "episode  441 | score 102.71 | trailing  50  games avg 101.593 | best score is: 105.923\n",
      "episode  442 | score 102.77 | trailing  50  games avg 101.591 | best score is: 105.923\n",
      "episode  443 | score 102.83 | trailing  50  games avg 101.611 | best score is: 105.923\n",
      "episode  444 | score 100.81 | trailing  50  games avg 101.608 | best score is: 105.923\n",
      "episode  445 | score 100.55 | trailing  50  games avg 101.646 | best score is: 105.923\n",
      "episode  446 | score 101.96 | trailing  50  games avg 101.658 | best score is: 105.923\n",
      "episode  447 | score 102.29 | trailing  50  games avg 101.695 | best score is: 105.923\n",
      "episode  448 | score 103.96 | trailing  50  games avg 101.740 | best score is: 105.923\n",
      "episode  449 | score 101.46 | trailing  50  games avg 101.738 | best score is: 105.923\n",
      "episode  450 | score 100.22 | trailing  50  games avg 101.707 | best score is: 105.923\n",
      "episode  451 | score 102.02 | trailing  50  games avg 101.734 | best score is: 105.923\n",
      "episode  452 | score 98.87 | trailing  50  games avg 101.684 | best score is: 105.923\n",
      "episode  453 | score 101.99 | trailing  50  games avg 101.647 | best score is: 105.923\n",
      "episode  454 | score 101.72 | trailing  50  games avg 101.646 | best score is: 105.923\n",
      "episode  455 | score 101.91 | trailing  50  games avg 101.599 | best score is: 105.923\n",
      "episode  456 | score 99.95 | trailing  50  games avg 101.584 | best score is: 105.923\n",
      "episode  457 | score 101.64 | trailing  50  games avg 101.596 | best score is: 105.923\n",
      "episode  458 | score 104.33 | trailing  50  games avg 101.683 | best score is: 105.923\n",
      "episode  459 | score 102.78 | trailing  50  games avg 101.734 | best score is: 105.923\n",
      "episode  460 | score 100.76 | trailing  50  games avg 101.685 | best score is: 105.923\n",
      "episode  461 | score 101.08 | trailing  50  games avg 101.637 | best score is: 105.923\n",
      "episode  462 | score 102.95 | trailing  50  games avg 101.664 | best score is: 105.923\n",
      "episode  463 | score 99.03 | trailing  50  games avg 101.620 | best score is: 105.923\n",
      "episode  464 | score 100.86 | trailing  50  games avg 101.613 | best score is: 105.923\n",
      "episode  465 | score 101.54 | trailing  50  games avg 101.619 | best score is: 105.923\n",
      "episode  466 | score 100.51 | trailing  50  games avg 101.582 | best score is: 105.923\n",
      "episode  467 | score 100.20 | trailing  50  games avg 101.517 | best score is: 105.923\n",
      "episode  468 | score 101.30 | trailing  50  games avg 101.573 | best score is: 105.923\n",
      "episode  469 | score 99.82 | trailing  50  games avg 101.532 | best score is: 105.923\n",
      "episode  470 | score 99.31 | trailing  50  games avg 101.475 | best score is: 105.923\n",
      "episode  471 | score 100.53 | trailing  50  games avg 101.474 | best score is: 105.923\n",
      "episode  472 | score 101.72 | trailing  50  games avg 101.497 | best score is: 105.923\n",
      "episode  473 | score 99.33 | trailing  50  games avg 101.426 | best score is: 105.923\n",
      "episode  474 | score 102.14 | trailing  50  games avg 101.452 | best score is: 105.923\n",
      "episode  475 | score 101.09 | trailing  50  games avg 101.426 | best score is: 105.923\n",
      "episode  476 | score 102.26 | trailing  50  games avg 101.415 | best score is: 105.923\n",
      "episode  477 | score 101.94 | trailing  50  games avg 101.415 | best score is: 105.923\n",
      "episode  478 | score 101.91 | trailing  50  games avg 101.424 | best score is: 105.923\n",
      "episode  479 | score 99.74 | trailing  50  games avg 101.360 | best score is: 105.923\n",
      "episode  480 | score 101.76 | trailing  50  games avg 101.369 | best score is: 105.923\n",
      "episode  481 | score 99.59 | trailing  50  games avg 101.321 | best score is: 105.923\n",
      "episode  482 | score 101.05 | trailing  50  games avg 101.305 | best score is: 105.923\n",
      "episode  483 | score 99.77 | trailing  50  games avg 101.238 | best score is: 105.923\n",
      "episode  484 | score 100.46 | trailing  50  games avg 101.193 | best score is: 105.923\n",
      "episode  485 | score 98.41 | trailing  50  games avg 101.141 | best score is: 105.923\n",
      "episode  486 | score 102.47 | trailing  50  games avg 101.143 | best score is: 105.923\n",
      "episode  487 | score 103.34 | trailing  50  games avg 101.179 | best score is: 105.923\n",
      "episode  488 | score 101.05 | trailing  50  games avg 101.179 | best score is: 105.923\n",
      "episode  489 | score 101.11 | trailing  50  games avg 101.212 | best score is: 105.923\n",
      "episode  490 | score 97.56 | trailing  50  games avg 101.187 | best score is: 105.923\n",
      "episode  491 | score 101.19 | trailing  50  games avg 101.156 | best score is: 105.923\n",
      "episode  492 | score 100.84 | trailing  50  games avg 101.118 | best score is: 105.923\n",
      "episode  493 | score 102.10 | trailing  50  games avg 101.103 | best score is: 105.923\n",
      "episode  494 | score 104.11 | trailing  50  games avg 101.169 | best score is: 105.923\n",
      "episode  495 | score 99.66 | trailing  50  games avg 101.152 | best score is: 105.923\n",
      "episode  496 | score 100.40 | trailing  50  games avg 101.120 | best score is: 105.923\n",
      "episode  497 | score 99.98 | trailing  50  games avg 101.074 | best score is: 105.923\n",
      "episode  498 | score 102.20 | trailing  50  games avg 101.039 | best score is: 105.923\n",
      "episode  499 | score 96.17 | trailing  50  games avg 100.933 | best score is: 105.923\n",
      "episode  500 | score 103.12 | trailing  50  games avg 100.991 | best score is: 105.923\n",
      "episode  501 | score 101.40 | trailing  50  games avg 100.979 | best score is: 105.923\n",
      "episode  502 | score 99.70 | trailing  50  games avg 100.995 | best score is: 105.923\n",
      "episode  503 | score 102.69 | trailing  50  games avg 101.009 | best score is: 105.923\n",
      "episode  504 | score 102.93 | trailing  50  games avg 101.033 | best score is: 105.923\n",
      "episode  505 | score 100.80 | trailing  50  games avg 101.011 | best score is: 105.923\n",
      "episode  506 | score 102.68 | trailing  50  games avg 101.066 | best score is: 105.923\n",
      "episode  507 | score 101.42 | trailing  50  games avg 101.062 | best score is: 105.923\n",
      "episode  508 | score 99.67 | trailing  50  games avg 100.968 | best score is: 105.923\n",
      "episode  509 | score 100.48 | trailing  50  games avg 100.923 | best score is: 105.923\n",
      "episode  510 | score 102.52 | trailing  50  games avg 100.958 | best score is: 105.923\n",
      "episode  511 | score 101.53 | trailing  50  games avg 100.967 | best score is: 105.923\n",
      "episode  512 | score 102.08 | trailing  50  games avg 100.949 | best score is: 105.923\n",
      "episode  513 | score 103.12 | trailing  50  games avg 101.031 | best score is: 105.923\n",
      "episode  514 | score 100.12 | trailing  50  games avg 101.016 | best score is: 105.923\n",
      "episode  515 | score 103.43 | trailing  50  games avg 101.054 | best score is: 105.923\n",
      "episode  516 | score 101.18 | trailing  50  games avg 101.068 | best score is: 105.923\n",
      "episode  517 | score 101.50 | trailing  50  games avg 101.093 | best score is: 105.923\n",
      "episode  518 | score 98.23 | trailing  50  games avg 101.032 | best score is: 105.923\n",
      "episode  519 | score 99.57 | trailing  50  games avg 101.027 | best score is: 105.923\n",
      "episode  520 | score 100.82 | trailing  50  games avg 101.057 | best score is: 105.923\n",
      "episode  521 | score 101.74 | trailing  50  games avg 101.082 | best score is: 105.923\n",
      "episode  522 | score 97.86 | trailing  50  games avg 101.005 | best score is: 105.923\n",
      "episode  523 | score 102.98 | trailing  50  games avg 101.078 | best score is: 105.923\n",
      "episode  524 | score 98.98 | trailing  50  games avg 101.015 | best score is: 105.923\n",
      "episode  525 | score 101.14 | trailing  50  games avg 101.016 | best score is: 105.923\n",
      "episode  526 | score 102.75 | trailing  50  games avg 101.025 | best score is: 105.923\n",
      "episode  527 | score 102.60 | trailing  50  games avg 101.039 | best score is: 105.923\n",
      "episode  528 | score 101.34 | trailing  50  games avg 101.027 | best score is: 105.923\n",
      "episode  529 | score 96.78 | trailing  50  games avg 100.968 | best score is: 105.923\n",
      "episode  530 | score 101.53 | trailing  50  games avg 100.964 | best score is: 105.923\n",
      "episode  531 | score 100.85 | trailing  50  games avg 100.989 | best score is: 105.923\n",
      "episode  532 | score 100.71 | trailing  50  games avg 100.982 | best score is: 105.923\n",
      "episode  533 | score 102.35 | trailing  50  games avg 101.034 | best score is: 105.923\n",
      "episode  534 | score 101.42 | trailing  50  games avg 101.053 | best score is: 105.923\n",
      "episode  535 | score 102.37 | trailing  50  games avg 101.132 | best score is: 105.923\n",
      "episode  536 | score 103.25 | trailing  50  games avg 101.148 | best score is: 105.923\n",
      "episode  537 | score 99.65 | trailing  50  games avg 101.074 | best score is: 105.923\n",
      "episode  538 | score 102.72 | trailing  50  games avg 101.107 | best score is: 105.923\n",
      "episode  539 | score 101.46 | trailing  50  games avg 101.114 | best score is: 105.923\n",
      "episode  540 | score 100.71 | trailing  50  games avg 101.177 | best score is: 105.923\n",
      "episode  541 | score 100.31 | trailing  50  games avg 101.160 | best score is: 105.923\n",
      "episode  542 | score 100.90 | trailing  50  games avg 101.161 | best score is: 105.923\n",
      "episode  543 | score 102.45 | trailing  50  games avg 101.168 | best score is: 105.923\n",
      "episode  544 | score 101.26 | trailing  50  games avg 101.111 | best score is: 105.923\n",
      "episode  545 | score 100.94 | trailing  50  games avg 101.137 | best score is: 105.923\n",
      "episode  546 | score 103.32 | trailing  50  games avg 101.195 | best score is: 105.923\n",
      "episode  547 | score 103.30 | trailing  50  games avg 101.261 | best score is: 105.923\n",
      "episode  548 | score 102.63 | trailing  50  games avg 101.270 | best score is: 105.923\n",
      "episode  549 | score 99.13 | trailing  50  games avg 101.329 | best score is: 105.923\n"
     ]
    }
   ],
   "source": [
    "expl_noise = 0.2\n",
    "action_dim = env.action_space.shape[0]\n",
    "\n",
    "n_games = 550\n",
    "warm_up_games = 50\n",
    "best_score = env.reward_range[0]\n",
    "best_avg = env.reward_range[0]\n",
    "score_history = []\n",
    "batch_size = 256\n",
    "\n",
    "n_averaging = 50\n",
    "\n",
    "for i in range(n_games):\n",
    "\tobservation = env.reset()\n",
    "\tdone = False\n",
    "\tscore = 0\n",
    "\twhile not done:\n",
    "\n",
    "\t\t#Choose an action:\n",
    "\t\t#if i < warmup, do a random step.\n",
    "\t\tif i < warm_up_games:\n",
    "\t\t\taction = env.action_space.sample()\n",
    "\t\telse:\n",
    "\t\t\taction = np.clip(agent.choose_action(observation) + np.random.normal(0, expl_noise, size=action_dim), -1, 1)\n",
    "\t\t\texpl_noise = expl_noise*0.99\n",
    "\n",
    "\t\t#perform action\n",
    "\t\tobservation_, reward, done, info = env.step(action)\n",
    "\n",
    "\t\t#Store in replay buffer \n",
    "\t\treplay_buffer.add(observation, action, observation_, reward, float(done))\n",
    "\n",
    "\t\tif i >= warm_up_games: #If warmup is done, perform learning\n",
    "\t\t\tagent.learn(replay_buffer, batch_size)\n",
    "\n",
    "\n",
    "\t\tscore += reward\n",
    "\t\tobservation = observation_\n",
    "\n",
    "\tscore_history.append(score)\n",
    "\tavg_score = np.mean(score_history[-n_averaging:])\n",
    "\n",
    "\tif avg_score > best_avg and i > warm_up_games:\n",
    "\t\tprint(\"best avg, saving\")\n",
    "\t\tbest_avg = avg_score\n",
    "\t\tagent.save(FOLDER, \"avg_best\")\n",
    "\n",
    "\tif score > best_score and i > warm_up_games:\n",
    "\t\tprint(\"new pr, saving\")\n",
    "\t\tbest_score = score\n",
    "\t\tagent.save(FOLDER, \"best\")\n",
    "\t\n",
    "\tprint('episode ', i, '| score %.2f' % score,\n",
    "\t\t'| trailing ', n_averaging,  ' games avg %.3f' % avg_score, '| best score is: %.3f' % best_score)\n",
    "\t\n",
    "\t"
   ]
  },
  {
   "cell_type": "code",
   "execution_count": 28,
   "id": "37d01f77",
   "metadata": {},
   "outputs": [],
   "source": [
    "filename = 'Floris_' + str(n_games) + 'games.png'\n",
    "figure_file = FOLDER  + filename\n"
   ]
  },
  {
   "cell_type": "code",
   "execution_count": 29,
   "id": "fbe727ab",
   "metadata": {},
   "outputs": [
    {
     "data": {
      "image/png": "[encoded data removed]",
      "text/plain": [
       "<Figure size 640x480 with 1 Axes>"
      ]
     },
     "metadata": {},
     "output_type": "display_data"
    }
   ],
   "source": [
    "x = [i+1 for i in range(n_games)]\n",
    "plot_learning_curve(x, score_history, figure_file, ylim=[0, 120])"
   ]
  },
  {
   "cell_type": "code",
   "execution_count": 27,
   "id": "5b64688d",
   "metadata": {},
   "outputs": [],
   "source": [
    "np.savetxt(FOLDER+\"score.csv\", score_history, delimiter=',')"
   ]
  },
  {
   "cell_type": "code",
   "execution_count": null,
   "id": "b1971d54",
   "metadata": {},
   "outputs": [],
   "source": []
  },
  {
   "cell_type": "code",
   "execution_count": null,
   "id": "57dfaa57",
   "metadata": {},
   "outputs": [],
   "source": []
  },
  {
   "cell_type": "code",
   "execution_count": 31,
   "id": "0a3362f9",
   "metadata": {},
   "outputs": [
    {
     "data": {
      "image/png": "[encoded data removed]",
      "text/plain": [
       "<Figure size 640x480 with 1 Axes>"
      ]
     },
     "metadata": {},
     "output_type": "display_data"
    }
   ],
   "source": [
    "plt.plot(x, score_history)\n",
    "plt.grid()\n",
    "plt.ylim((0, 200))\n",
    "plt.show()"
   ]
  },
  {
   "cell_type": "code",
   "execution_count": 14,
   "id": "c08dfa5f",
   "metadata": {},
   "outputs": [],
   "source": [
    "#Load the best performing model\n",
    "agent.load(FOLDER, \"best\")"
   ]
  },
  {
   "cell_type": "code",
   "execution_count": 31,
   "id": "ff49b4db",
   "metadata": {},
   "outputs": [
    {
     "data": {
      "text/plain": [
       "array([ 0.75555557, -0.44444445, -0.3       ,  0.08919799, -1.        ,\n",
       "        1.        ,  1.        ,  1.        ,  0.75855076,  0.71536994,\n",
       "       -0.7956888 , -1.        ], dtype=float32)"
      ]
     },
     "execution_count": 31,
     "metadata": {},
     "output_type": "execute_result"
    }
   ],
   "source": [
    "observation"
   ]
  },
  {
   "cell_type": "code",
   "execution_count": 32,
   "id": "ac4236e8",
   "metadata": {},
   "outputs": [
    {
     "name": "stdout",
     "output_type": "stream",
     "text": [
      "270.0\n",
      "obs er: 0.5\n",
      "270.0\n",
      "obs er: 0.5\n",
      "270.0\n",
      "obs er: 0.5\n",
      "270.0\n",
      "obs er: 0.5\n",
      "270.0\n",
      "obs er: 0.5\n",
      "270.0\n",
      "obs er: 0.5\n",
      "270.0\n",
      "obs er: 0.5\n",
      "270.0\n",
      "obs er: 0.5\n",
      "270.0\n",
      "obs er: 0.5\n",
      "270.0\n",
      "obs er: 0.5\n",
      "270.0\n",
      "obs er: 0.5\n",
      "270.0\n",
      "obs er: 0.5\n",
      "270.0\n",
      "obs er: 0.5\n",
      "270.0\n",
      "obs er: 0.5\n",
      "271.0\n",
      "obs er: 0.5\n",
      "272.0\n",
      "obs er: 0.50555557\n",
      "273.0\n",
      "obs er: 0.51111114\n",
      "274.0\n",
      "obs er: 0.51666665\n",
      "275.0\n",
      "obs er: 0.5222222\n",
      "276.0\n",
      "obs er: 0.5277778\n",
      "277.0\n",
      "obs er: 0.53333336\n",
      "278.0\n",
      "obs er: 0.5388889\n",
      "279.0\n",
      "obs er: 0.54444444\n",
      "280.0\n",
      "obs er: 0.55\n",
      "281.0\n",
      "obs er: 0.5555556\n",
      "282.0\n",
      "obs er: 0.5611111\n",
      "283.0\n",
      "obs er: 0.56666666\n",
      "284.0\n",
      "obs er: 0.57222223\n",
      "285.0\n",
      "obs er: 0.5777778\n",
      "286.0\n",
      "obs er: 0.5833333\n",
      "287.0\n",
      "obs er: 0.5888889\n",
      "288.0\n",
      "obs er: 0.59444445\n",
      "289.0\n",
      "obs er: 0.6\n",
      "290.0\n",
      "obs er: 0.60555553\n",
      "291.0\n",
      "obs er: 0.6111111\n",
      "292.0\n",
      "obs er: 0.6166667\n",
      "293.0\n",
      "obs er: 0.62222224\n",
      "294.0\n",
      "obs er: 0.62777776\n",
      "295.0\n",
      "obs er: 0.6333333\n",
      "296.0\n",
      "obs er: 0.6388889\n",
      "297.0\n",
      "obs er: 0.64444447\n",
      "298.0\n",
      "obs er: 0.65\n",
      "299.0\n",
      "obs er: 0.65555555\n",
      "300.0\n",
      "obs er: 0.6611111\n",
      "301.0\n",
      "obs er: 0.6666667\n",
      "302.0\n",
      "obs er: 0.6722222\n",
      "303.0\n",
      "obs er: 0.67777777\n",
      "304.0\n",
      "obs er: 0.68333334\n",
      "305.0\n",
      "obs er: 0.6888889\n",
      "306.0\n",
      "obs er: 0.6944444\n",
      "307.0\n",
      "obs er: 0.7\n",
      "308.0\n",
      "obs er: 0.70555556\n",
      "309.0\n",
      "obs er: 0.7111111\n",
      "310.0\n",
      "obs er: 0.71666664\n",
      "311.0\n",
      "obs er: 0.7222222\n",
      "312.0\n",
      "obs er: 0.7277778\n",
      "313.0\n",
      "obs er: 0.73333335\n",
      "314.0\n",
      "obs er: 0.73888886\n",
      "315.0\n",
      "obs er: 0.74444443\n",
      "316.0\n",
      "obs er: 0.75\n",
      "316.0\n",
      "obs er: 0.75555557\n",
      "316.0\n",
      "obs er: 0.75555557\n",
      "316.0\n",
      "obs er: 0.75555557\n",
      "316.0\n",
      "obs er: 0.75555557\n",
      "316.0\n",
      "obs er: 0.75555557\n",
      "316.0\n",
      "obs er: 0.75555557\n",
      "316.0\n",
      "obs er: 0.75555557\n",
      "316.0\n",
      "obs er: 0.75555557\n",
      "316.0\n",
      "obs er: 0.75555557\n",
      "316.0\n",
      "obs er: 0.75555557\n",
      "316.0\n",
      "obs er: 0.75555557\n",
      "316.0\n",
      "obs er: 0.75555557\n",
      "316.0\n",
      "obs er: 0.75555557\n",
      "316.0\n",
      "obs er: 0.75555557\n",
      "316.0\n",
      "obs er: 0.75555557\n",
      "316.0\n",
      "obs er: 0.75555557\n",
      "316.0\n",
      "obs er: 0.75555557\n",
      "316.0\n",
      "obs er: 0.75555557\n",
      "316.0\n",
      "obs er: 0.75555557\n",
      "316.0\n",
      "obs er: 0.75555557\n",
      "316.0\n",
      "obs er: 0.75555557\n",
      "316.0\n",
      "obs er: 0.75555557\n",
      "316.0\n",
      "obs er: 0.75555557\n",
      "316.0\n",
      "obs er: 0.75555557\n",
      "316.0\n",
      "obs er: 0.75555557\n",
      "316.0\n",
      "obs er: 0.75555557\n",
      "316.0\n",
      "obs er: 0.75555557\n",
      "316.0\n",
      "obs er: 0.75555557\n",
      "316.0\n",
      "obs er: 0.75555557\n",
      "316.0\n",
      "obs er: 0.75555557\n",
      "316.0\n",
      "obs er: 0.75555557\n",
      "316.0\n",
      "obs er: 0.75555557\n",
      "316.0\n",
      "obs er: 0.75555557\n",
      "316.0\n",
      "obs er: 0.75555557\n",
      "316.0\n",
      "obs er: 0.75555557\n",
      "316.0\n",
      "obs er: 0.75555557\n",
      "316.0\n",
      "obs er: 0.75555557\n",
      "316.0\n",
      "obs er: 0.75555557\n",
      "316.0\n",
      "obs er: 0.75555557\n",
      "316.0\n",
      "obs er: 0.75555557\n",
      "316.0\n",
      "obs er: 0.75555557\n",
      "done\n"
     ]
    }
   ],
   "source": [
    "action_list = []\n",
    "reward_list = []\n",
    "wd_list = []\n",
    "\n",
    "observation = env.reset()\n",
    "done = False\n",
    "score = 0\n",
    "while not done:\n",
    "    action = agent.choose_action(observation)\n",
    "    observation_, reward, done, info = env.step(action)\n",
    "    #agent.remember(observation, action, reward, observation_, done)\n",
    "    #agent.learn()\n",
    "    #score += reward\n",
    "    reward_list.append(reward)\n",
    "    wd_list.append(env.wd)\n",
    "    print(env.wd)\n",
    "    print(\"obs er:\", observation[0])\n",
    "\n",
    "    observation = observation_\n",
    "\n",
    "\n",
    "print(\"done\")\n",
    "reward_list = np.array(reward_list)\n",
    "wd_list = np.array(wd_list)\n"
   ]
  },
  {
   "cell_type": "code",
   "execution_count": 33,
   "id": "4211d892",
   "metadata": {},
   "outputs": [
    {
     "data": {
      "text/plain": [
       "101"
      ]
     },
     "execution_count": 33,
     "metadata": {},
     "output_type": "execute_result"
    }
   ],
   "source": [
    "len(wd_list)"
   ]
  },
  {
   "cell_type": "code",
   "execution_count": 35,
   "id": "52f92132",
   "metadata": {},
   "outputs": [
    {
     "data": {
      "text/plain": [
       "array([316., 316., 316., 316., 316., 316., 316., 316., 316., 316.],\n",
       "      dtype=float32)"
      ]
     },
     "execution_count": 35,
     "metadata": {},
     "output_type": "execute_result"
    }
   ],
   "source": [
    "wd_list[0:10]"
   ]
  },
  {
   "cell_type": "code",
   "execution_count": 16,
   "id": "36e79ab7",
   "metadata": {},
   "outputs": [
    {
     "data": {
      "image/png": "[encoded data removed]",
      "text/plain": [
       "<Figure size 640x480 with 1 Axes>"
      ]
     },
     "metadata": {},
     "output_type": "display_data"
    }
   ],
   "source": [
    "plt.scatter(wd_list, reward_list)\n",
    "plt.show()"
   ]
  },
  {
   "cell_type": "code",
   "execution_count": 5,
   "id": "2ae95910",
   "metadata": {},
   "outputs": [],
   "source": [
    "import numpy as np"
   ]
  },
  {
   "cell_type": "code",
   "execution_count": 6,
   "id": "ec5209ff",
   "metadata": {},
   "outputs": [],
   "source": [
    "A = np.zeros(9, dtype=np.float32)\n",
    "B = np.array(10)\n",
    "C = np.array(0.5)"
   ]
  },
  {
   "cell_type": "code",
   "execution_count": 16,
   "id": "1d22d817",
   "metadata": {},
   "outputs": [
    {
     "data": {
      "text/plain": [
       "array([10. ,  0.5,  0. ,  0. ,  0. ,  0. ,  0. ,  0. ,  0. ,  0. ,  0. ],\n",
       "      dtype=float32)"
      ]
     },
     "execution_count": 16,
     "metadata": {},
     "output_type": "execute_result"
    }
   ],
   "source": [
    "np.concatenate((B, C, A), axis = None)"
   ]
  },
  {
   "cell_type": "code",
   "execution_count": 1,
   "id": "720045c1",
   "metadata": {},
   "outputs": [],
   "source": [
    "from Custom_functions import CustomEnv8, CustomEnv9\n",
    "import numpy as np\n",
    "from stable_baselines3.common.env_checker import check_env"
   ]
  },
  {
   "cell_type": "code",
   "execution_count": 4,
   "id": "abce1bef",
   "metadata": {},
   "outputs": [],
   "source": [
    "env = CustomEnv9(t_steps = 20)"
   ]
  },
  {
   "cell_type": "code",
   "execution_count": 5,
   "id": "03716635",
   "metadata": {},
   "outputs": [],
   "source": [
    "check_env(env)"
   ]
  },
  {
   "cell_type": "code",
   "execution_count": 4,
   "id": "d3586ce2",
   "metadata": {},
   "outputs": [
    {
     "data": {
      "text/plain": [
       "array([270, 285, 300, 315, 330, 345])"
      ]
     },
     "execution_count": 4,
     "metadata": {},
     "output_type": "execute_result"
    }
   ],
   "source": [
    "np.arange(270, 360, 15)"
   ]
  },
  {
   "cell_type": "code",
   "execution_count": 21,
   "id": "a953e74c",
   "metadata": {},
   "outputs": [
    {
     "name": "stdout",
     "output_type": "stream",
     "text": [
      "[0.]\n"
     ]
    }
   ],
   "source": [
    "obs = env.reset()\n",
    "print(obs)"
   ]
  },
  {
   "cell_type": "code",
   "execution_count": 5,
   "id": "4158f64b",
   "metadata": {},
   "outputs": [
    {
     "data": {
      "text/plain": [
       "array([1.], dtype=float32)"
      ]
     },
     "execution_count": 5,
     "metadata": {},
     "output_type": "execute_result"
    }
   ],
   "source": [
    "obs"
   ]
  },
  {
   "cell_type": "code",
   "execution_count": 4,
   "id": "0edd41fb",
   "metadata": {},
   "outputs": [
    {
     "name": "stdout",
     "output_type": "stream",
     "text": [
      "in reset:\n",
      "[1.0222223]\n"
     ]
    },
    {
     "data": {
      "text/plain": [
       "(array([1.0222223], dtype=float32), 0.02164100432569427, False, {})"
      ]
     },
     "execution_count": 4,
     "metadata": {},
     "output_type": "execute_result"
    }
   ],
   "source": [
    "env.step(env.action_space.sample())"
   ]
  },
  {
   "cell_type": "code",
   "execution_count": 6,
   "id": "c0af571c",
   "metadata": {},
   "outputs": [
    {
     "data": {
      "text/plain": [
       "(1,)"
      ]
     },
     "execution_count": 6,
     "metadata": {},
     "output_type": "execute_result"
    }
   ],
   "source": [
    "obs.shape"
   ]
  },
  {
   "cell_type": "code",
   "execution_count": 14,
   "id": "925a973c",
   "metadata": {},
   "outputs": [],
   "source": [
    "test = np.zeros(shape=(1,))"
   ]
  },
  {
   "cell_type": "code",
   "execution_count": 15,
   "id": "df6aafa6",
   "metadata": {},
   "outputs": [
    {
     "data": {
      "text/plain": [
       "(1,)"
      ]
     },
     "execution_count": 15,
     "metadata": {},
     "output_type": "execute_result"
    }
   ],
   "source": [
    "test.shape"
   ]
  },
  {
   "cell_type": "code",
   "execution_count": 22,
   "id": "190a67c5",
   "metadata": {},
   "outputs": [
    {
     "data": {
      "text/plain": [
       "()"
      ]
     },
     "execution_count": 22,
     "metadata": {},
     "output_type": "execute_result"
    }
   ],
   "source": [
    "np.array((2)).astype(np.float32).shape"
   ]
  },
  {
   "cell_type": "code",
   "execution_count": 8,
   "id": "0a14a42e",
   "metadata": {},
   "outputs": [
    {
     "data": {
      "text/plain": [
       "array([2., 2., 2., 2., 2., 2., 2., 2., 2.], dtype=float32)"
      ]
     },
     "execution_count": 8,
     "metadata": {},
     "output_type": "execute_result"
    }
   ],
   "source": [
    "A + 2"
   ]
  },
  {
   "cell_type": "code",
   "execution_count": 16,
   "id": "7f918c19",
   "metadata": {},
   "outputs": [],
   "source": [
    "def testfun(x):\n",
    "    A = 3\n",
    "    A_last = 3\n",
    "    print(\"A is: \", A)\n",
    "    print(\"A_last is: \", A_last)\n",
    "    A = 22\n",
    "    print(\"changing A\")\n",
    "    print(\"A is: \", A)\n",
    "    print(\"A_last is: \", A_last)\n",
    "    A_last = A\n",
    "    print(\"changing A_last\")\n",
    "    print(\"A is: \", A)\n",
    "    print(\"A_last is: \", A_last)\n",
    "    A = 222\n",
    "    print(\"changing A\")\n",
    "    print(\"A is: \", A)\n",
    "    print(\"A_last is: \", A_last)"
   ]
  },
  {
   "cell_type": "code",
   "execution_count": 17,
   "id": "6c54dee8",
   "metadata": {},
   "outputs": [
    {
     "name": "stdout",
     "output_type": "stream",
     "text": [
      "A is:  3\n",
      "A_last is:  3\n",
      "changing A\n",
      "A is:  22\n",
      "A_last is:  3\n",
      "changing A_last\n",
      "A is:  22\n",
      "A_last is:  22\n",
      "changing A\n",
      "A is:  222\n",
      "A_last is:  22\n"
     ]
    }
   ],
   "source": [
    "testfun(1)"
   ]
  },
  {
   "cell_type": "code",
   "execution_count": 21,
   "id": "94bd7fb1",
   "metadata": {},
   "outputs": [
    {
     "data": {
      "image/png": "[encoded data removed]",
      "text/plain": [
       "<Figure size 640x480 with 1 Axes>"
      ]
     },
     "metadata": {},
     "output_type": "display_data"
    }
   ],
   "source": [
    "test_val = []\n",
    "noise = 0.2\n",
    "\n",
    "for i in range(500):\n",
    "    plt.scatter(i,noise)\n",
    "    noise = noise * 0.99\n",
    "\n",
    "plt.show()"
   ]
  },
  {
   "cell_type": "code",
   "execution_count": 57,
   "id": "a92378e1",
   "metadata": {},
   "outputs": [
    {
     "data": {
      "text/plain": [
       "1"
      ]
     },
     "execution_count": 57,
     "metadata": {},
     "output_type": "execute_result"
    }
   ],
   "source": []
  },
  {
   "cell_type": "code",
   "execution_count": 4,
   "id": "40476b87",
   "metadata": {},
   "outputs": [],
   "source": [
    "import numpy as np"
   ]
  },
  {
   "cell_type": "code",
   "execution_count": 27,
   "id": "54a86aba",
   "metadata": {},
   "outputs": [],
   "source": [
    "A = (1)"
   ]
  },
  {
   "cell_type": "code",
   "execution_count": 48,
   "id": "072744b1",
   "metadata": {},
   "outputs": [
    {
     "data": {
      "text/plain": [
       "1"
      ]
     },
     "execution_count": 48,
     "metadata": {},
     "output_type": "execute_result"
    }
   ],
   "source": [
    "A"
   ]
  },
  {
   "cell_type": "code",
   "execution_count": 76,
   "id": "6188f8f4",
   "metadata": {},
   "outputs": [
    {
     "data": {
      "text/plain": [
       "10.0"
      ]
     },
     "execution_count": 76,
     "metadata": {},
     "output_type": "execute_result"
    }
   ],
   "source": [
    "np.random.choice((10, 15)).astype(np.float32)"
   ]
  },
  {
   "cell_type": "code",
   "execution_count": null,
   "id": "5bcd429c",
   "metadata": {},
   "outputs": [],
   "source": []
  },
  {
   "cell_type": "code",
   "execution_count": 1,
   "id": "00453582",
   "metadata": {},
   "outputs": [],
   "source": [
    "import numpy as np"
   ]
  },
  {
   "cell_type": "code",
   "execution_count": null,
   "id": "679e30cc",
   "metadata": {},
   "outputs": [],
   "source": []
  },
  {
   "cell_type": "code",
   "execution_count": 2,
   "id": "350c28d1",
   "metadata": {},
   "outputs": [],
   "source": [
    "A = (10, 15, 20, 30)"
   ]
  },
  {
   "cell_type": "code",
   "execution_count": 4,
   "id": "351fb637",
   "metadata": {},
   "outputs": [
    {
     "data": {
      "text/plain": [
       "(30, 10)"
      ]
     },
     "execution_count": 4,
     "metadata": {},
     "output_type": "execute_result"
    }
   ],
   "source": [
    "max(A), min(A)"
   ]
  },
  {
   "cell_type": "code",
   "execution_count": 17,
   "id": "576b2308",
   "metadata": {},
   "outputs": [
    {
     "data": {
      "text/plain": [
       "10"
      ]
     },
     "execution_count": 17,
     "metadata": {},
     "output_type": "execute_result"
    }
   ],
   "source": [
    "np.random.choice(A)"
   ]
  }
 ],
 "metadata": {
  "kernelspec": {
   "display_name": "Python 3.9.12 ('thesis')",
   "language": "python",
   "name": "python3"
  },
  "language_info": {
   "codemirror_mode": {
    "name": "ipython",
    "version": 3
   },
   "file_extension": ".py",
   "mimetype": "text/x-python",
   "name": "python",
   "nbconvert_exporter": "python",
   "pygments_lexer": "ipython3",
   "version": "3.9.13"
  },
  "vscode": {
   "interpreter": {
    "hash": "5576d4e0944c7c8d3e746c7156f0cd5a57b8627925746e47be452fe66d712228"
   }
  }
 },
 "nbformat": 4,
 "nbformat_minor": 5
}
