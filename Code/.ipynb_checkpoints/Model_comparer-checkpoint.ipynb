{
 "cells": [
  {
   "cell_type": "code",
   "execution_count": 1,
   "id": "f02f8a3c",
   "metadata": {},
   "outputs": [],
   "source": [
    "import pandas as pd\n",
    "\n",
    "import gym\n",
    "import numpy as np\n",
    "from stable_baselines3 import A2C, DDPG, SAC, PPO\n",
    "from matplotlib import axis\n",
    "import numpy as np\n",
    "from floris.tools import FlorisInterface\n",
    "from floris.tools.visualization import visualize_cut_plane\n",
    "import matplotlib.pyplot as plt\n",
    "from floris.tools.optimization.yaw_optimization.yaw_optimizer_sr import YawOptimizationSR\n",
    "\n",
    "#Importing custom environment.\n",
    "from Custom_functions import CustomEnv"
   ]
  },
  {
   "cell_type": "code",
   "execution_count": 2,
   "id": "214d1ba0",
   "metadata": {},
   "outputs": [],
   "source": [
    "df = pd.read_excel (r'Results\\Overview.xlsx')"
   ]
  },
  {
   "cell_type": "code",
   "execution_count": 3,
   "id": "87d6b0a0",
   "metadata": {},
   "outputs": [],
   "source": [
    "model_compare = \"PPO3\""
   ]
  },
  {
   "cell_type": "code",
   "execution_count": 4,
   "id": "ee7812c6",
   "metadata": {},
   "outputs": [],
   "source": [
    "index = df[\"Model name\"].str.find(model_compare)[0]"
   ]
  },
  {
   "cell_type": "code",
   "execution_count": 5,
   "id": "783e9208",
   "metadata": {},
   "outputs": [],
   "source": [
    "Model_name = df[\"Model name\"][index]\n",
    "t_steps = df[\"t_steps\"][index]\n",
    "dist = df[\"dist\"][index]\n",
    "nx = df[\"nx\"][index]\n",
    "ny = df[\"ny\"][index]\n",
    "turb_type = df[\"turb_type\"][index]\n",
    "combination = df[\"combination\"][index]\n",
    "deflection = df[\"deflection\"][index]\n",
    "turbulence = df[\"turbulence\"][index]\n",
    "velocity = df[\"velocity\"][index]\n",
    "VS_min = df[\"VS_min\"][index]\n",
    "VS_max = df[\"VS_max\"][index]\n",
    "TI_min = df[\"TI_min\"][index]\n",
    "TI_max = df[\"TI_max\"][index]\n",
    "wd_min = df[\"wd_min\"][index]\n",
    "wd_max = df[\"wd_max\"][index]\n",
    "yaw_max = df[\"yaw_max\"][index]\n",
    "rho = df[\"rho\"][index]"
   ]
  },
  {
   "cell_type": "code",
   "execution_count": 6,
   "id": "5908f6ce",
   "metadata": {},
   "outputs": [],
   "source": [
    "env = CustomEnv(t_steps, dist, nx, ny, turb_type, combination, deflection,\n",
    "               turbulence, velocity, VS_min, VS_max, TI_min, TI_max, wd_min, wd_max, \n",
    "               yaw_max, rho)"
   ]
  },
  {
   "cell_type": "code",
   "execution_count": 8,
   "id": "f381d536",
   "metadata": {},
   "outputs": [],
   "source": [
    "model_path = \"models/\"+model_compare+\"/720000\""
   ]
  },
  {
   "cell_type": "code",
   "execution_count": 9,
   "id": "8c42a268",
   "metadata": {},
   "outputs": [
    {
     "name": "stdout",
     "output_type": "stream",
     "text": [
      "Wrapping the env with a `Monitor` wrapper\n",
      "Wrapping the env in a DummyVecEnv.\n"
     ]
    }
   ],
   "source": [
    "model = PPO.load(model_path, env=env)"
   ]
  },
  {
   "cell_type": "code",
   "execution_count": null,
   "id": "6e8efff7",
   "metadata": {},
   "outputs": [],
   "source": []
  },
  {
   "cell_type": "code",
   "execution_count": 115,
   "id": "390f1f08",
   "metadata": {},
   "outputs": [],
   "source": [
    "#Creates the base for the farm\n",
    "fi = FlorisInterface(\"gch.yaml\")   \n",
    "\n",
    "#Turns it into a dictionary and then does the changes to the model\n",
    "fi_dict = fi.floris.as_dict()\n",
    "\n",
    "fi_dict[\"farm\"][\"turbine_type\"] = [turb_type]\n",
    "fi_dict[\"wake\"][\"model_strings\"][\"combination_model\"] = combination\n",
    "fi_dict[\"wake\"][\"model_strings\"][\"deflection_model\"]  = deflection\n",
    "fi_dict[\"wake\"][\"model_strings\"][\"turbulence_model\"]  = turbulence\n",
    "fi_dict[\"wake\"][\"model_strings\"][\"velocity_model\"]    = velocity\n",
    "fi_dict[\"flow_field\"][\"air_density\"]                  = rho\n",
    "\n",
    "# Turns it back into a floris object:\n",
    "fi = FlorisInterface(fi_dict)\n",
    "\n",
    "D = fi.floris.farm.rotor_diameters[0]\n",
    "\n",
    "x = np.linspace(0, D*dist*nx, nx)\n",
    "y = np.linspace(0, D*dist*ny, ny)\n",
    "\n",
    "xv, yv = np.meshgrid(x, y, indexing='xy')\n",
    "\n",
    "layout_x =  xv.flatten()\n",
    "layout_y = yv.flatten()\n",
    "\n",
    "fi.reinitialize(\n",
    "            layout=(layout_x, layout_y),\n",
    "            )\n"
   ]
  },
  {
   "cell_type": "code",
   "execution_count": null,
   "id": "1d769566",
   "metadata": {},
   "outputs": [],
   "source": []
  },
  {
   "cell_type": "code",
   "execution_count": 122,
   "id": "3397dcb8",
   "metadata": {},
   "outputs": [],
   "source": [
    "TI = TI_min\n",
    "\n",
    "actions = []\n",
    "agent_power = []\n",
    "baseline_power = []\n",
    "\n",
    "yaw_angles = np.zeros((1, 1, nx*ny)) \n",
    "yaw_zero = np.zeros((1, 1, nx*ny)) \n",
    "\n",
    "for wind_speed in range(VS_min,VS_max+1):\n",
    "    #print(wind_speed)\n",
    "    for wind_dir in range(wd_min, wd_max+1):\n",
    "        observation = np.array([wind_speed, TI, wind_dir], dtype = np.float32)\n",
    "        action, _states = model.predict(observation, deterministic=True)\n",
    "        \n",
    "        action = action*yaw_max   #scales the action to the \n",
    "        actions.append(action)\n",
    "        \n",
    "        fi.reinitialize(\n",
    "            wind_directions=[wind_dir],\n",
    "            turbulence_intensity= TI,\n",
    "            wind_speeds=[wind_speed]\n",
    "            )\n",
    "        \n",
    "        yaw_angles[0,0,:] = action\n",
    "        fi.calculate_wake(yaw_angles = yaw_zero)\n",
    "        \n",
    "        baseline_power.append(fi.get_farm_power()[0][0])\n",
    "        \n",
    "        fi.calculate_wake(yaw_angles = yaw_angles)\n",
    "        agent_power.append(fi.get_farm_power()[0][0])\n",
    "        \n",
    "        \n",
    "\n",
    "actions = np.array(actions)\n",
    "np.unique(actions,axis = 0)\n",
    "\n",
    "baseline_power = np.array(baseline_power)\n",
    "agent_power = np.array(agent_power)\n"
   ]
  },
  {
   "cell_type": "code",
   "execution_count": 125,
   "id": "ed3acea9",
   "metadata": {},
   "outputs": [],
   "source": [
    "diff = agent_power - baseline_power"
   ]
  },
  {
   "cell_type": "code",
   "execution_count": 127,
   "id": "e05f9726",
   "metadata": {},
   "outputs": [
    {
     "data": {
      "text/plain": [
       "-701963283.9579575"
      ]
     },
     "execution_count": 127,
     "metadata": {},
     "output_type": "execute_result"
    }
   ],
   "source": [
    "sum(diff)"
   ]
  },
  {
   "cell_type": "code",
   "execution_count": 135,
   "id": "3fe1b6b2",
   "metadata": {},
   "outputs": [
    {
     "name": "stdout",
     "output_type": "stream",
     "text": [
      "The agent performs better in: 94  number of cases\n"
     ]
    }
   ],
   "source": [
    "print(\"The agent performs better in:\", sum(diff > 0),\" number of cases\")"
   ]
  },
  {
   "cell_type": "code",
   "execution_count": 138,
   "id": "190b037b",
   "metadata": {},
   "outputs": [
    {
     "name": "stdout",
     "output_type": "stream",
     "text": [
      "The agent performs worse in: 458  number of cases\n"
     ]
    }
   ],
   "source": [
    "print(\"The agent performs worse in:\", sum(diff < 0), \" number of cases\")"
   ]
  },
  {
   "cell_type": "code",
   "execution_count": null,
   "id": "a485147a",
   "metadata": {},
   "outputs": [],
   "source": []
  },
  {
   "cell_type": "code",
   "execution_count": null,
   "id": "53647529",
   "metadata": {},
   "outputs": [],
   "source": []
  },
  {
   "cell_type": "code",
   "execution_count": 131,
   "id": "7e64674b",
   "metadata": {},
   "outputs": [],
   "source": [
    "# Load the TensorBoard notebook extension\n",
    "%load_ext tensorboard"
   ]
  },
  {
   "cell_type": "code",
   "execution_count": 132,
   "id": "644f0675",
   "metadata": {},
   "outputs": [],
   "source": [
    "import tensorflow as tf\n",
    "import datetime, os"
   ]
  },
  {
   "cell_type": "code",
   "execution_count": 133,
   "id": "9db800fa",
   "metadata": {},
   "outputs": [
    {
     "data": {
      "text/html": [
       "\n",
       "      <iframe id=\"tensorboard-frame-629f6fbed82c07cd\" width=\"100%\" height=\"800\" frameborder=\"0\">\n",
       "      </iframe>\n",
       "      <script>\n",
       "        (function() {\n",
       "          const frame = document.getElementById(\"tensorboard-frame-629f6fbed82c07cd\");\n",
       "          const url = new URL(\"/\", window.location);\n",
       "          const port = 6006;\n",
       "          if (port) {\n",
       "            url.port = port;\n",
       "          }\n",
       "          frame.src = url;\n",
       "        })();\n",
       "      </script>\n",
       "    "
      ],
      "text/plain": [
       "<IPython.core.display.HTML object>"
      ]
     },
     "metadata": {},
     "output_type": "display_data"
    }
   ],
   "source": [
    "%tensorboard --logdir logs"
   ]
  }
 ],
 "metadata": {
  "kernelspec": {
   "display_name": "Python 3 (ipykernel)",
   "language": "python",
   "name": "python3"
  },
  "language_info": {
   "codemirror_mode": {
    "name": "ipython",
    "version": 3
   },
   "file_extension": ".py",
   "mimetype": "text/x-python",
   "name": "python",
   "nbconvert_exporter": "python",
   "pygments_lexer": "ipython3",
   "version": "3.9.7"
  }
 },
 "nbformat": 4,
 "nbformat_minor": 5
}
